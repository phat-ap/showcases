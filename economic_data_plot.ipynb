{
 "cells": [
  {
   "cell_type": "code",
   "execution_count": 1,
   "metadata": {},
   "outputs": [],
   "source": [
    "import pandas as pd\n",
    "import plotly.graph_objects as go\n"
   ]
  },
  {
   "cell_type": "code",
   "execution_count": 29,
   "metadata": {},
   "outputs": [],
   "source": [
    "df_ex = pd.read_csv('data_cleaned/bot_ex.csv', parse_dates=['date']).set_index('date')\n",
    "df_im = pd.read_csv('data_cleaned/bot_im.csv', parse_dates=['date']).set_index('date')\n"
   ]
  },
  {
   "cell_type": "code",
   "execution_count": 30,
   "metadata": {},
   "outputs": [
    {
     "data": {
      "text/html": [
       "<div>\n",
       "<style scoped>\n",
       "    .dataframe tbody tr th:only-of-type {\n",
       "        vertical-align: middle;\n",
       "    }\n",
       "\n",
       "    .dataframe tbody tr th {\n",
       "        vertical-align: top;\n",
       "    }\n",
       "\n",
       "    .dataframe thead th {\n",
       "        text-align: right;\n",
       "    }\n",
       "</style>\n",
       "<table border=\"1\" class=\"dataframe\">\n",
       "  <thead>\n",
       "    <tr style=\"text-align: right;\">\n",
       "      <th></th>\n",
       "      <th>Exports</th>\n",
       "      <th>Food</th>\n",
       "      <th>Beverages and tobacco</th>\n",
       "      <th>Crude materials</th>\n",
       "      <th>Mineral fuel and lubricant</th>\n",
       "      <th>Animal and vegetable oils and fats</th>\n",
       "      <th>Chemicals</th>\n",
       "      <th>Manufactured goods</th>\n",
       "      <th>Machinery</th>\n",
       "      <th>Miscellaneous manufactured goods</th>\n",
       "      <th>Miscellaneous transactions and commodities</th>\n",
       "      <th>Re-exports 1/</th>\n",
       "    </tr>\n",
       "    <tr>\n",
       "      <th>date</th>\n",
       "      <th></th>\n",
       "      <th></th>\n",
       "      <th></th>\n",
       "      <th></th>\n",
       "      <th></th>\n",
       "      <th></th>\n",
       "      <th></th>\n",
       "      <th></th>\n",
       "      <th></th>\n",
       "      <th></th>\n",
       "      <th></th>\n",
       "      <th></th>\n",
       "    </tr>\n",
       "  </thead>\n",
       "  <tbody>\n",
       "    <tr>\n",
       "      <th>1995-01-31</th>\n",
       "      <td>99967.66</td>\n",
       "      <td>20761.53</td>\n",
       "      <td>267.20</td>\n",
       "      <td>7115.78</td>\n",
       "      <td>643.21</td>\n",
       "      <td>70.07</td>\n",
       "      <td>3499.40</td>\n",
       "      <td>11425.35</td>\n",
       "      <td>29661.84</td>\n",
       "      <td>25098.28</td>\n",
       "      <td>1138.73</td>\n",
       "      <td>286.27</td>\n",
       "    </tr>\n",
       "    <tr>\n",
       "      <th>1995-02-28</th>\n",
       "      <td>99718.05</td>\n",
       "      <td>20045.32</td>\n",
       "      <td>285.84</td>\n",
       "      <td>6764.47</td>\n",
       "      <td>1267.39</td>\n",
       "      <td>84.74</td>\n",
       "      <td>4102.98</td>\n",
       "      <td>10950.71</td>\n",
       "      <td>31484.79</td>\n",
       "      <td>23733.64</td>\n",
       "      <td>878.39</td>\n",
       "      <td>119.76</td>\n",
       "    </tr>\n",
       "    <tr>\n",
       "      <th>1995-03-31</th>\n",
       "      <td>128892.61</td>\n",
       "      <td>26498.59</td>\n",
       "      <td>392.87</td>\n",
       "      <td>7700.59</td>\n",
       "      <td>1310.48</td>\n",
       "      <td>85.44</td>\n",
       "      <td>4762.98</td>\n",
       "      <td>15884.52</td>\n",
       "      <td>40543.63</td>\n",
       "      <td>30056.71</td>\n",
       "      <td>1501.91</td>\n",
       "      <td>154.88</td>\n",
       "    </tr>\n",
       "    <tr>\n",
       "      <th>1995-04-30</th>\n",
       "      <td>100018.79</td>\n",
       "      <td>21696.83</td>\n",
       "      <td>285.28</td>\n",
       "      <td>6084.33</td>\n",
       "      <td>994.51</td>\n",
       "      <td>25.63</td>\n",
       "      <td>4252.56</td>\n",
       "      <td>11190.23</td>\n",
       "      <td>32110.82</td>\n",
       "      <td>22280.98</td>\n",
       "      <td>922.80</td>\n",
       "      <td>174.82</td>\n",
       "    </tr>\n",
       "    <tr>\n",
       "      <th>1995-05-31</th>\n",
       "      <td>119277.38</td>\n",
       "      <td>27013.30</td>\n",
       "      <td>275.78</td>\n",
       "      <td>7179.50</td>\n",
       "      <td>725.36</td>\n",
       "      <td>33.24</td>\n",
       "      <td>6361.54</td>\n",
       "      <td>13115.51</td>\n",
       "      <td>38287.04</td>\n",
       "      <td>24791.06</td>\n",
       "      <td>1337.55</td>\n",
       "      <td>157.51</td>\n",
       "    </tr>\n",
       "    <tr>\n",
       "      <th>...</th>\n",
       "      <td>...</td>\n",
       "      <td>...</td>\n",
       "      <td>...</td>\n",
       "      <td>...</td>\n",
       "      <td>...</td>\n",
       "      <td>...</td>\n",
       "      <td>...</td>\n",
       "      <td>...</td>\n",
       "      <td>...</td>\n",
       "      <td>...</td>\n",
       "      <td>...</td>\n",
       "      <td>...</td>\n",
       "    </tr>\n",
       "    <tr>\n",
       "      <th>2024-04-30</th>\n",
       "      <td>834018.29</td>\n",
       "      <td>142295.62</td>\n",
       "      <td>6625.14</td>\n",
       "      <td>40299.83</td>\n",
       "      <td>29327.53</td>\n",
       "      <td>6586.57</td>\n",
       "      <td>72491.39</td>\n",
       "      <td>96929.73</td>\n",
       "      <td>367138.24</td>\n",
       "      <td>59622.37</td>\n",
       "      <td>10428.02</td>\n",
       "      <td>2273.85</td>\n",
       "    </tr>\n",
       "    <tr>\n",
       "      <th>2024-05-31</th>\n",
       "      <td>960220.44</td>\n",
       "      <td>155163.38</td>\n",
       "      <td>7829.11</td>\n",
       "      <td>45974.75</td>\n",
       "      <td>32078.86</td>\n",
       "      <td>7146.63</td>\n",
       "      <td>83016.93</td>\n",
       "      <td>114749.90</td>\n",
       "      <td>420899.84</td>\n",
       "      <td>71004.57</td>\n",
       "      <td>21500.58</td>\n",
       "      <td>855.88</td>\n",
       "    </tr>\n",
       "    <tr>\n",
       "      <th>2024-06-30</th>\n",
       "      <td>892766.41</td>\n",
       "      <td>125887.99</td>\n",
       "      <td>6528.57</td>\n",
       "      <td>38946.34</td>\n",
       "      <td>33128.18</td>\n",
       "      <td>4803.97</td>\n",
       "      <td>75025.30</td>\n",
       "      <td>103751.69</td>\n",
       "      <td>419144.20</td>\n",
       "      <td>65448.16</td>\n",
       "      <td>19735.93</td>\n",
       "      <td>366.08</td>\n",
       "    </tr>\n",
       "    <tr>\n",
       "      <th>2024-07-31</th>\n",
       "      <td>938285.09</td>\n",
       "      <td>118265.38</td>\n",
       "      <td>6311.09</td>\n",
       "      <td>47017.59</td>\n",
       "      <td>38359.37</td>\n",
       "      <td>8386.62</td>\n",
       "      <td>83062.97</td>\n",
       "      <td>109797.40</td>\n",
       "      <td>410999.41</td>\n",
       "      <td>70874.03</td>\n",
       "      <td>43291.20</td>\n",
       "      <td>1920.03</td>\n",
       "    </tr>\n",
       "    <tr>\n",
       "      <th>2024-08-31</th>\n",
       "      <td>939521.12</td>\n",
       "      <td>129606.08</td>\n",
       "      <td>6566.22</td>\n",
       "      <td>48195.08</td>\n",
       "      <td>36684.81</td>\n",
       "      <td>6030.86</td>\n",
       "      <td>81793.61</td>\n",
       "      <td>112210.16</td>\n",
       "      <td>426402.29</td>\n",
       "      <td>75046.90</td>\n",
       "      <td>16582.27</td>\n",
       "      <td>402.85</td>\n",
       "    </tr>\n",
       "  </tbody>\n",
       "</table>\n",
       "<p>356 rows × 12 columns</p>\n",
       "</div>"
      ],
      "text/plain": [
       "              Exports       Food  Beverages and tobacco  Crude materials  \\\n",
       "date                                                                       \n",
       "1995-01-31   99967.66   20761.53                 267.20          7115.78   \n",
       "1995-02-28   99718.05   20045.32                 285.84          6764.47   \n",
       "1995-03-31  128892.61   26498.59                 392.87          7700.59   \n",
       "1995-04-30  100018.79   21696.83                 285.28          6084.33   \n",
       "1995-05-31  119277.38   27013.30                 275.78          7179.50   \n",
       "...               ...        ...                    ...              ...   \n",
       "2024-04-30  834018.29  142295.62                6625.14         40299.83   \n",
       "2024-05-31  960220.44  155163.38                7829.11         45974.75   \n",
       "2024-06-30  892766.41  125887.99                6528.57         38946.34   \n",
       "2024-07-31  938285.09  118265.38                6311.09         47017.59   \n",
       "2024-08-31  939521.12  129606.08                6566.22         48195.08   \n",
       "\n",
       "            Mineral fuel and lubricant  Animal and vegetable oils and fats  \\\n",
       "date                                                                         \n",
       "1995-01-31                      643.21                               70.07   \n",
       "1995-02-28                     1267.39                               84.74   \n",
       "1995-03-31                     1310.48                               85.44   \n",
       "1995-04-30                      994.51                               25.63   \n",
       "1995-05-31                      725.36                               33.24   \n",
       "...                                ...                                 ...   \n",
       "2024-04-30                    29327.53                             6586.57   \n",
       "2024-05-31                    32078.86                             7146.63   \n",
       "2024-06-30                    33128.18                             4803.97   \n",
       "2024-07-31                    38359.37                             8386.62   \n",
       "2024-08-31                    36684.81                             6030.86   \n",
       "\n",
       "            Chemicals  Manufactured goods  Machinery  \\\n",
       "date                                                   \n",
       "1995-01-31    3499.40            11425.35   29661.84   \n",
       "1995-02-28    4102.98            10950.71   31484.79   \n",
       "1995-03-31    4762.98            15884.52   40543.63   \n",
       "1995-04-30    4252.56            11190.23   32110.82   \n",
       "1995-05-31    6361.54            13115.51   38287.04   \n",
       "...               ...                 ...        ...   \n",
       "2024-04-30   72491.39            96929.73  367138.24   \n",
       "2024-05-31   83016.93           114749.90  420899.84   \n",
       "2024-06-30   75025.30           103751.69  419144.20   \n",
       "2024-07-31   83062.97           109797.40  410999.41   \n",
       "2024-08-31   81793.61           112210.16  426402.29   \n",
       "\n",
       "            Miscellaneous manufactured goods  \\\n",
       "date                                           \n",
       "1995-01-31                          25098.28   \n",
       "1995-02-28                          23733.64   \n",
       "1995-03-31                          30056.71   \n",
       "1995-04-30                          22280.98   \n",
       "1995-05-31                          24791.06   \n",
       "...                                      ...   \n",
       "2024-04-30                          59622.37   \n",
       "2024-05-31                          71004.57   \n",
       "2024-06-30                          65448.16   \n",
       "2024-07-31                          70874.03   \n",
       "2024-08-31                          75046.90   \n",
       "\n",
       "            Miscellaneous transactions and commodities  Re-exports 1/  \n",
       "date                                                                   \n",
       "1995-01-31                                     1138.73         286.27  \n",
       "1995-02-28                                      878.39         119.76  \n",
       "1995-03-31                                     1501.91         154.88  \n",
       "1995-04-30                                      922.80         174.82  \n",
       "1995-05-31                                     1337.55         157.51  \n",
       "...                                                ...            ...  \n",
       "2024-04-30                                    10428.02        2273.85  \n",
       "2024-05-31                                    21500.58         855.88  \n",
       "2024-06-30                                    19735.93         366.08  \n",
       "2024-07-31                                    43291.20        1920.03  \n",
       "2024-08-31                                    16582.27         402.85  \n",
       "\n",
       "[356 rows x 12 columns]"
      ]
     },
     "execution_count": 30,
     "metadata": {},
     "output_type": "execute_result"
    }
   ],
   "source": [
    "df_ex"
   ]
  },
  {
   "cell_type": "code",
   "execution_count": 120,
   "metadata": {},
   "outputs": [],
   "source": [
    "def create_value_chart(df, li_columns, str_agg_column):\n",
    "    # Create the figure and add the components\n",
    "    n = 12\n",
    "    df = df.tail(n=n)\n",
    "    idx = df.index\n",
    "    fig = go.Figure(\n",
    "        data=[\n",
    "            go.Bar(\n",
    "                name=li_columns[0], \n",
    "                x=idx, \n",
    "                y=df[li_columns[0]],\n",
    "                hovertemplate='%{y:,.0f} THB Million'\n",
    "            ), \n",
    "            go.Bar(\n",
    "                name=li_columns[1], \n",
    "                x=idx, \n",
    "                y=df[li_columns[1]],\n",
    "                hovertemplate='%{y:,.0f} THB Million'\n",
    "            ), \n",
    "            go.Bar(\n",
    "                name=li_columns[2], \n",
    "                x=idx, \n",
    "                y=df[li_columns[2]],\n",
    "                hovertemplate='%{y:,.0f} THB Million'\n",
    "            ), \n",
    "            go.Bar(\n",
    "                name=li_columns[3], \n",
    "                x=idx, \n",
    "                y=df[li_columns[3]],\n",
    "                hovertemplate='%{y:,.0f} THB Million'\n",
    "            ), \n",
    "            go.Bar(\n",
    "                name='Others', \n",
    "                x=idx, \n",
    "                y=df[str_agg_column] - df[li_columns[0]] - df[li_columns[1]] - df[li_columns[2]] - df[li_columns[3]],\n",
    "                hovertemplate='%{y:,.0f} THB Million'\n",
    "            ), \n",
    "            go.Scatter(\n",
    "                name=str_agg_column, \n",
    "                x=idx, \n",
    "                y=df[str_agg_column], \n",
    "                mode='lines+markers', \n",
    "                line=dict(color='black'),\n",
    "                hovertemplate='%{y:,.0f} THB Million',\n",
    "            )\n",
    "        ]\n",
    "    )\n",
    "\n",
    "    # Customize the layout to stack the bars\n",
    "    fig.update_layout(\n",
    "        barmode='stack',\n",
    "        bargap=0,\n",
    "        bargroupgap=0,\n",
    "        legend_title='Legend',\n",
    "        xaxis=dict(\n",
    "            tickformat='%b %y',\n",
    "            tickangle=-90,\n",
    "            tickmode='array',\n",
    "            tickvals=df.index,\n",
    "        )\n",
    "    )\n",
    "    \n",
    "    return fig"
   ]
  },
  {
   "cell_type": "code",
   "execution_count": 121,
   "metadata": {},
   "outputs": [
    {
     "data": {
      "application/vnd.plotly.v1+json": {
       "config": {
        "plotlyServerURL": "https://plot.ly"
       },
       "data": [
        {
         "hovertemplate": "%{y:,.0f} THB Million",
         "name": "Machinery",
         "type": "bar",
         "x": [
          "2023-09-30T00:00:00",
          "2023-10-31T00:00:00",
          "2023-11-30T00:00:00",
          "2023-12-31T00:00:00",
          "2024-01-31T00:00:00",
          "2024-02-29T00:00:00",
          "2024-03-31T00:00:00",
          "2024-04-30T00:00:00",
          "2024-05-31T00:00:00",
          "2024-06-30T00:00:00",
          "2024-07-31T00:00:00",
          "2024-08-31T00:00:00"
         ],
         "y": [
          404700.28,
          371637.7,
          394031.56,
          375672.31,
          345686.4,
          365299.75,
          417786.53,
          367138.24,
          420899.84,
          419144.2,
          410999.41,
          426402.29
         ]
        },
        {
         "hovertemplate": "%{y:,.0f} THB Million",
         "name": "Food",
         "type": "bar",
         "x": [
          "2023-09-30T00:00:00",
          "2023-10-31T00:00:00",
          "2023-11-30T00:00:00",
          "2023-12-31T00:00:00",
          "2024-01-31T00:00:00",
          "2024-02-29T00:00:00",
          "2024-03-31T00:00:00",
          "2024-04-30T00:00:00",
          "2024-05-31T00:00:00",
          "2024-06-30T00:00:00",
          "2024-07-31T00:00:00",
          "2024-08-31T00:00:00"
         ],
         "y": [
          113945.04,
          103727.93,
          108032.33,
          94691.15,
          101050.01,
          102907.74,
          114054.9,
          142295.62,
          155163.38,
          125887.99,
          118265.38,
          129606.08
         ]
        },
        {
         "hovertemplate": "%{y:,.0f} THB Million",
         "name": "Manufactured goods",
         "type": "bar",
         "x": [
          "2023-09-30T00:00:00",
          "2023-10-31T00:00:00",
          "2023-11-30T00:00:00",
          "2023-12-31T00:00:00",
          "2024-01-31T00:00:00",
          "2024-02-29T00:00:00",
          "2024-03-31T00:00:00",
          "2024-04-30T00:00:00",
          "2024-05-31T00:00:00",
          "2024-06-30T00:00:00",
          "2024-07-31T00:00:00",
          "2024-08-31T00:00:00"
         ],
         "y": [
          116004.04,
          102759.72,
          113791.51,
          100931.86,
          118938.16,
          113844.03,
          110786.55,
          96929.73,
          114749.9,
          103751.69,
          109797.4,
          112210.16
         ]
        },
        {
         "hovertemplate": "%{y:,.0f} THB Million",
         "name": "Chemicals",
         "type": "bar",
         "x": [
          "2023-09-30T00:00:00",
          "2023-10-31T00:00:00",
          "2023-11-30T00:00:00",
          "2023-12-31T00:00:00",
          "2024-01-31T00:00:00",
          "2024-02-29T00:00:00",
          "2024-03-31T00:00:00",
          "2024-04-30T00:00:00",
          "2024-05-31T00:00:00",
          "2024-06-30T00:00:00",
          "2024-07-31T00:00:00",
          "2024-08-31T00:00:00"
         ],
         "y": [
          75219.22,
          76487.08,
          76720.51,
          66272.51,
          68685.32,
          72747.56,
          78626.52,
          72491.39,
          83016.93,
          75025.3,
          83062.97,
          81793.61
         ]
        },
        {
         "hovertemplate": "%{y:,.0f} THB Million",
         "name": "Others",
         "type": "bar",
         "x": [
          "2023-09-30T00:00:00",
          "2023-10-31T00:00:00",
          "2023-11-30T00:00:00",
          "2023-12-31T00:00:00",
          "2024-01-31T00:00:00",
          "2024-02-29T00:00:00",
          "2024-03-31T00:00:00",
          "2024-04-30T00:00:00",
          "2024-05-31T00:00:00",
          "2024-06-30T00:00:00",
          "2024-07-31T00:00:00",
          "2024-08-31T00:00:00"
         ],
         "y": [
          186407.18000000002,
          192975.35000000003,
          161919.92999999993,
          158105.44000000006,
          150220.52,
          172339.95000000004,
          171035.3199999999,
          155163.31000000006,
          186390.38999999984,
          168957.23000000004,
          216159.9299999999,
          189508.97999999998
         ]
        },
        {
         "hovertemplate": "%{y:,.0f} THB Million",
         "line": {
          "color": "black"
         },
         "mode": "lines+markers",
         "name": "Exports",
         "type": "scatter",
         "x": [
          "2023-09-30T00:00:00",
          "2023-10-31T00:00:00",
          "2023-11-30T00:00:00",
          "2023-12-31T00:00:00",
          "2024-01-31T00:00:00",
          "2024-02-29T00:00:00",
          "2024-03-31T00:00:00",
          "2024-04-30T00:00:00",
          "2024-05-31T00:00:00",
          "2024-06-30T00:00:00",
          "2024-07-31T00:00:00",
          "2024-08-31T00:00:00"
         ],
         "y": [
          896275.76,
          847587.78,
          854495.84,
          795673.27,
          784580.41,
          827139.03,
          892289.82,
          834018.29,
          960220.44,
          892766.41,
          938285.09,
          939521.12
         ]
        }
       ],
       "layout": {
        "bargap": 0,
        "bargroupgap": 0,
        "barmode": "stack",
        "legend": {
         "title": {
          "text": "Legend"
         }
        },
        "template": {
         "data": {
          "bar": [
           {
            "error_x": {
             "color": "#2a3f5f"
            },
            "error_y": {
             "color": "#2a3f5f"
            },
            "marker": {
             "line": {
              "color": "#E5ECF6",
              "width": 0.5
             },
             "pattern": {
              "fillmode": "overlay",
              "size": 10,
              "solidity": 0.2
             }
            },
            "type": "bar"
           }
          ],
          "barpolar": [
           {
            "marker": {
             "line": {
              "color": "#E5ECF6",
              "width": 0.5
             },
             "pattern": {
              "fillmode": "overlay",
              "size": 10,
              "solidity": 0.2
             }
            },
            "type": "barpolar"
           }
          ],
          "carpet": [
           {
            "aaxis": {
             "endlinecolor": "#2a3f5f",
             "gridcolor": "white",
             "linecolor": "white",
             "minorgridcolor": "white",
             "startlinecolor": "#2a3f5f"
            },
            "baxis": {
             "endlinecolor": "#2a3f5f",
             "gridcolor": "white",
             "linecolor": "white",
             "minorgridcolor": "white",
             "startlinecolor": "#2a3f5f"
            },
            "type": "carpet"
           }
          ],
          "choropleth": [
           {
            "colorbar": {
             "outlinewidth": 0,
             "ticks": ""
            },
            "type": "choropleth"
           }
          ],
          "contour": [
           {
            "colorbar": {
             "outlinewidth": 0,
             "ticks": ""
            },
            "colorscale": [
             [
              0,
              "#0d0887"
             ],
             [
              0.1111111111111111,
              "#46039f"
             ],
             [
              0.2222222222222222,
              "#7201a8"
             ],
             [
              0.3333333333333333,
              "#9c179e"
             ],
             [
              0.4444444444444444,
              "#bd3786"
             ],
             [
              0.5555555555555556,
              "#d8576b"
             ],
             [
              0.6666666666666666,
              "#ed7953"
             ],
             [
              0.7777777777777778,
              "#fb9f3a"
             ],
             [
              0.8888888888888888,
              "#fdca26"
             ],
             [
              1,
              "#f0f921"
             ]
            ],
            "type": "contour"
           }
          ],
          "contourcarpet": [
           {
            "colorbar": {
             "outlinewidth": 0,
             "ticks": ""
            },
            "type": "contourcarpet"
           }
          ],
          "heatmap": [
           {
            "colorbar": {
             "outlinewidth": 0,
             "ticks": ""
            },
            "colorscale": [
             [
              0,
              "#0d0887"
             ],
             [
              0.1111111111111111,
              "#46039f"
             ],
             [
              0.2222222222222222,
              "#7201a8"
             ],
             [
              0.3333333333333333,
              "#9c179e"
             ],
             [
              0.4444444444444444,
              "#bd3786"
             ],
             [
              0.5555555555555556,
              "#d8576b"
             ],
             [
              0.6666666666666666,
              "#ed7953"
             ],
             [
              0.7777777777777778,
              "#fb9f3a"
             ],
             [
              0.8888888888888888,
              "#fdca26"
             ],
             [
              1,
              "#f0f921"
             ]
            ],
            "type": "heatmap"
           }
          ],
          "heatmapgl": [
           {
            "colorbar": {
             "outlinewidth": 0,
             "ticks": ""
            },
            "colorscale": [
             [
              0,
              "#0d0887"
             ],
             [
              0.1111111111111111,
              "#46039f"
             ],
             [
              0.2222222222222222,
              "#7201a8"
             ],
             [
              0.3333333333333333,
              "#9c179e"
             ],
             [
              0.4444444444444444,
              "#bd3786"
             ],
             [
              0.5555555555555556,
              "#d8576b"
             ],
             [
              0.6666666666666666,
              "#ed7953"
             ],
             [
              0.7777777777777778,
              "#fb9f3a"
             ],
             [
              0.8888888888888888,
              "#fdca26"
             ],
             [
              1,
              "#f0f921"
             ]
            ],
            "type": "heatmapgl"
           }
          ],
          "histogram": [
           {
            "marker": {
             "pattern": {
              "fillmode": "overlay",
              "size": 10,
              "solidity": 0.2
             }
            },
            "type": "histogram"
           }
          ],
          "histogram2d": [
           {
            "colorbar": {
             "outlinewidth": 0,
             "ticks": ""
            },
            "colorscale": [
             [
              0,
              "#0d0887"
             ],
             [
              0.1111111111111111,
              "#46039f"
             ],
             [
              0.2222222222222222,
              "#7201a8"
             ],
             [
              0.3333333333333333,
              "#9c179e"
             ],
             [
              0.4444444444444444,
              "#bd3786"
             ],
             [
              0.5555555555555556,
              "#d8576b"
             ],
             [
              0.6666666666666666,
              "#ed7953"
             ],
             [
              0.7777777777777778,
              "#fb9f3a"
             ],
             [
              0.8888888888888888,
              "#fdca26"
             ],
             [
              1,
              "#f0f921"
             ]
            ],
            "type": "histogram2d"
           }
          ],
          "histogram2dcontour": [
           {
            "colorbar": {
             "outlinewidth": 0,
             "ticks": ""
            },
            "colorscale": [
             [
              0,
              "#0d0887"
             ],
             [
              0.1111111111111111,
              "#46039f"
             ],
             [
              0.2222222222222222,
              "#7201a8"
             ],
             [
              0.3333333333333333,
              "#9c179e"
             ],
             [
              0.4444444444444444,
              "#bd3786"
             ],
             [
              0.5555555555555556,
              "#d8576b"
             ],
             [
              0.6666666666666666,
              "#ed7953"
             ],
             [
              0.7777777777777778,
              "#fb9f3a"
             ],
             [
              0.8888888888888888,
              "#fdca26"
             ],
             [
              1,
              "#f0f921"
             ]
            ],
            "type": "histogram2dcontour"
           }
          ],
          "mesh3d": [
           {
            "colorbar": {
             "outlinewidth": 0,
             "ticks": ""
            },
            "type": "mesh3d"
           }
          ],
          "parcoords": [
           {
            "line": {
             "colorbar": {
              "outlinewidth": 0,
              "ticks": ""
             }
            },
            "type": "parcoords"
           }
          ],
          "pie": [
           {
            "automargin": true,
            "type": "pie"
           }
          ],
          "scatter": [
           {
            "fillpattern": {
             "fillmode": "overlay",
             "size": 10,
             "solidity": 0.2
            },
            "type": "scatter"
           }
          ],
          "scatter3d": [
           {
            "line": {
             "colorbar": {
              "outlinewidth": 0,
              "ticks": ""
             }
            },
            "marker": {
             "colorbar": {
              "outlinewidth": 0,
              "ticks": ""
             }
            },
            "type": "scatter3d"
           }
          ],
          "scattercarpet": [
           {
            "marker": {
             "colorbar": {
              "outlinewidth": 0,
              "ticks": ""
             }
            },
            "type": "scattercarpet"
           }
          ],
          "scattergeo": [
           {
            "marker": {
             "colorbar": {
              "outlinewidth": 0,
              "ticks": ""
             }
            },
            "type": "scattergeo"
           }
          ],
          "scattergl": [
           {
            "marker": {
             "colorbar": {
              "outlinewidth": 0,
              "ticks": ""
             }
            },
            "type": "scattergl"
           }
          ],
          "scattermapbox": [
           {
            "marker": {
             "colorbar": {
              "outlinewidth": 0,
              "ticks": ""
             }
            },
            "type": "scattermapbox"
           }
          ],
          "scatterpolar": [
           {
            "marker": {
             "colorbar": {
              "outlinewidth": 0,
              "ticks": ""
             }
            },
            "type": "scatterpolar"
           }
          ],
          "scatterpolargl": [
           {
            "marker": {
             "colorbar": {
              "outlinewidth": 0,
              "ticks": ""
             }
            },
            "type": "scatterpolargl"
           }
          ],
          "scatterternary": [
           {
            "marker": {
             "colorbar": {
              "outlinewidth": 0,
              "ticks": ""
             }
            },
            "type": "scatterternary"
           }
          ],
          "surface": [
           {
            "colorbar": {
             "outlinewidth": 0,
             "ticks": ""
            },
            "colorscale": [
             [
              0,
              "#0d0887"
             ],
             [
              0.1111111111111111,
              "#46039f"
             ],
             [
              0.2222222222222222,
              "#7201a8"
             ],
             [
              0.3333333333333333,
              "#9c179e"
             ],
             [
              0.4444444444444444,
              "#bd3786"
             ],
             [
              0.5555555555555556,
              "#d8576b"
             ],
             [
              0.6666666666666666,
              "#ed7953"
             ],
             [
              0.7777777777777778,
              "#fb9f3a"
             ],
             [
              0.8888888888888888,
              "#fdca26"
             ],
             [
              1,
              "#f0f921"
             ]
            ],
            "type": "surface"
           }
          ],
          "table": [
           {
            "cells": {
             "fill": {
              "color": "#EBF0F8"
             },
             "line": {
              "color": "white"
             }
            },
            "header": {
             "fill": {
              "color": "#C8D4E3"
             },
             "line": {
              "color": "white"
             }
            },
            "type": "table"
           }
          ]
         },
         "layout": {
          "annotationdefaults": {
           "arrowcolor": "#2a3f5f",
           "arrowhead": 0,
           "arrowwidth": 1
          },
          "autotypenumbers": "strict",
          "coloraxis": {
           "colorbar": {
            "outlinewidth": 0,
            "ticks": ""
           }
          },
          "colorscale": {
           "diverging": [
            [
             0,
             "#8e0152"
            ],
            [
             0.1,
             "#c51b7d"
            ],
            [
             0.2,
             "#de77ae"
            ],
            [
             0.3,
             "#f1b6da"
            ],
            [
             0.4,
             "#fde0ef"
            ],
            [
             0.5,
             "#f7f7f7"
            ],
            [
             0.6,
             "#e6f5d0"
            ],
            [
             0.7,
             "#b8e186"
            ],
            [
             0.8,
             "#7fbc41"
            ],
            [
             0.9,
             "#4d9221"
            ],
            [
             1,
             "#276419"
            ]
           ],
           "sequential": [
            [
             0,
             "#0d0887"
            ],
            [
             0.1111111111111111,
             "#46039f"
            ],
            [
             0.2222222222222222,
             "#7201a8"
            ],
            [
             0.3333333333333333,
             "#9c179e"
            ],
            [
             0.4444444444444444,
             "#bd3786"
            ],
            [
             0.5555555555555556,
             "#d8576b"
            ],
            [
             0.6666666666666666,
             "#ed7953"
            ],
            [
             0.7777777777777778,
             "#fb9f3a"
            ],
            [
             0.8888888888888888,
             "#fdca26"
            ],
            [
             1,
             "#f0f921"
            ]
           ],
           "sequentialminus": [
            [
             0,
             "#0d0887"
            ],
            [
             0.1111111111111111,
             "#46039f"
            ],
            [
             0.2222222222222222,
             "#7201a8"
            ],
            [
             0.3333333333333333,
             "#9c179e"
            ],
            [
             0.4444444444444444,
             "#bd3786"
            ],
            [
             0.5555555555555556,
             "#d8576b"
            ],
            [
             0.6666666666666666,
             "#ed7953"
            ],
            [
             0.7777777777777778,
             "#fb9f3a"
            ],
            [
             0.8888888888888888,
             "#fdca26"
            ],
            [
             1,
             "#f0f921"
            ]
           ]
          },
          "colorway": [
           "#636efa",
           "#EF553B",
           "#00cc96",
           "#ab63fa",
           "#FFA15A",
           "#19d3f3",
           "#FF6692",
           "#B6E880",
           "#FF97FF",
           "#FECB52"
          ],
          "font": {
           "color": "#2a3f5f"
          },
          "geo": {
           "bgcolor": "white",
           "lakecolor": "white",
           "landcolor": "#E5ECF6",
           "showlakes": true,
           "showland": true,
           "subunitcolor": "white"
          },
          "hoverlabel": {
           "align": "left"
          },
          "hovermode": "closest",
          "mapbox": {
           "style": "light"
          },
          "paper_bgcolor": "white",
          "plot_bgcolor": "#E5ECF6",
          "polar": {
           "angularaxis": {
            "gridcolor": "white",
            "linecolor": "white",
            "ticks": ""
           },
           "bgcolor": "#E5ECF6",
           "radialaxis": {
            "gridcolor": "white",
            "linecolor": "white",
            "ticks": ""
           }
          },
          "scene": {
           "xaxis": {
            "backgroundcolor": "#E5ECF6",
            "gridcolor": "white",
            "gridwidth": 2,
            "linecolor": "white",
            "showbackground": true,
            "ticks": "",
            "zerolinecolor": "white"
           },
           "yaxis": {
            "backgroundcolor": "#E5ECF6",
            "gridcolor": "white",
            "gridwidth": 2,
            "linecolor": "white",
            "showbackground": true,
            "ticks": "",
            "zerolinecolor": "white"
           },
           "zaxis": {
            "backgroundcolor": "#E5ECF6",
            "gridcolor": "white",
            "gridwidth": 2,
            "linecolor": "white",
            "showbackground": true,
            "ticks": "",
            "zerolinecolor": "white"
           }
          },
          "shapedefaults": {
           "line": {
            "color": "#2a3f5f"
           }
          },
          "ternary": {
           "aaxis": {
            "gridcolor": "white",
            "linecolor": "white",
            "ticks": ""
           },
           "baxis": {
            "gridcolor": "white",
            "linecolor": "white",
            "ticks": ""
           },
           "bgcolor": "#E5ECF6",
           "caxis": {
            "gridcolor": "white",
            "linecolor": "white",
            "ticks": ""
           }
          },
          "title": {
           "x": 0.05
          },
          "xaxis": {
           "automargin": true,
           "gridcolor": "white",
           "linecolor": "white",
           "ticks": "",
           "title": {
            "standoff": 15
           },
           "zerolinecolor": "white",
           "zerolinewidth": 2
          },
          "yaxis": {
           "automargin": true,
           "gridcolor": "white",
           "linecolor": "white",
           "ticks": "",
           "title": {
            "standoff": 15
           },
           "zerolinecolor": "white",
           "zerolinewidth": 2
          }
         }
        },
        "title": {
         "text": "Exports in THB Million"
        },
        "xaxis": {
         "tickangle": -90,
         "tickformat": "%b %y",
         "tickmode": "array",
         "tickvals": [
          "2023-09-30T00:00:00",
          "2023-10-31T00:00:00",
          "2023-11-30T00:00:00",
          "2023-12-31T00:00:00",
          "2024-01-31T00:00:00",
          "2024-02-29T00:00:00",
          "2024-03-31T00:00:00",
          "2024-04-30T00:00:00",
          "2024-05-31T00:00:00",
          "2024-06-30T00:00:00",
          "2024-07-31T00:00:00",
          "2024-08-31T00:00:00"
         ]
        }
       }
      }
     },
     "metadata": {},
     "output_type": "display_data"
    }
   ],
   "source": [
    "fig = create_value_chart(\n",
    "    df=df_ex, \n",
    "    li_columns=['Machinery', 'Food', 'Manufactured goods', 'Chemicals'], \n",
    "    str_agg_column='Exports'\n",
    ")\n",
    "fig.update_layout(\n",
    "    title='Exports in THB Million',\n",
    ")\n",
    "fig.show()"
   ]
  },
  {
   "cell_type": "code",
   "execution_count": 122,
   "metadata": {},
   "outputs": [
    {
     "data": {
      "application/vnd.plotly.v1+json": {
       "config": {
        "plotlyServerURL": "https://plot.ly"
       },
       "data": [
        {
         "hovertemplate": "%{y:,.0f} THB Million",
         "name": "Machinery",
         "type": "bar",
         "x": [
          "2023-09-30T00:00:00",
          "2023-10-31T00:00:00",
          "2023-11-30T00:00:00",
          "2023-12-31T00:00:00",
          "2024-01-31T00:00:00",
          "2024-02-29T00:00:00",
          "2024-03-31T00:00:00",
          "2024-04-30T00:00:00",
          "2024-05-31T00:00:00",
          "2024-06-30T00:00:00",
          "2024-07-31T00:00:00",
          "2024-08-31T00:00:00"
         ],
         "y": [
          308353.65,
          353680,
          370838.93,
          277016.71,
          332450.67,
          335640.57,
          365683.76,
          336726.26,
          357003.39,
          311801.01,
          373656.07,
          317222.06
         ]
        },
        {
         "hovertemplate": "%{y:,.0f} THB Million",
         "name": "Food",
         "type": "bar",
         "x": [
          "2023-09-30T00:00:00",
          "2023-10-31T00:00:00",
          "2023-11-30T00:00:00",
          "2023-12-31T00:00:00",
          "2024-01-31T00:00:00",
          "2024-02-29T00:00:00",
          "2024-03-31T00:00:00",
          "2024-04-30T00:00:00",
          "2024-05-31T00:00:00",
          "2024-06-30T00:00:00",
          "2024-07-31T00:00:00",
          "2024-08-31T00:00:00"
         ],
         "y": [
          48984.77,
          46553.54,
          44643.54,
          41879.98,
          49071.32,
          47818.93,
          51774.66,
          46813.96,
          50260.01,
          46566.41,
          54019.87,
          57591.5
         ]
        },
        {
         "hovertemplate": "%{y:,.0f} THB Million",
         "name": "Manufactured goods",
         "type": "bar",
         "x": [
          "2023-09-30T00:00:00",
          "2023-10-31T00:00:00",
          "2023-11-30T00:00:00",
          "2023-12-31T00:00:00",
          "2024-01-31T00:00:00",
          "2024-02-29T00:00:00",
          "2024-03-31T00:00:00",
          "2024-04-30T00:00:00",
          "2024-05-31T00:00:00",
          "2024-06-30T00:00:00",
          "2024-07-31T00:00:00",
          "2024-08-31T00:00:00"
         ],
         "y": [
          126610.66,
          129601.24,
          133385.77,
          115734.19,
          133207.47,
          133805.32,
          132738.98,
          135597.57,
          139998.38,
          136632.07,
          153345.71,
          152063.39
         ]
        },
        {
         "hovertemplate": "%{y:,.0f} THB Million",
         "name": "Chemicals",
         "type": "bar",
         "x": [
          "2023-09-30T00:00:00",
          "2023-10-31T00:00:00",
          "2023-11-30T00:00:00",
          "2023-12-31T00:00:00",
          "2024-01-31T00:00:00",
          "2024-02-29T00:00:00",
          "2024-03-31T00:00:00",
          "2024-04-30T00:00:00",
          "2024-05-31T00:00:00",
          "2024-06-30T00:00:00",
          "2024-07-31T00:00:00",
          "2024-08-31T00:00:00"
         ],
         "y": [
          80038.19,
          85592.81,
          87850.59,
          73722.26,
          87467.49,
          86289.14,
          94561.9,
          95253.6,
          96796.43,
          90023.29,
          105282.35,
          96001.93
         ]
        },
        {
         "hovertemplate": "%{y:,.0f} THB Million",
         "name": "Others",
         "type": "bar",
         "x": [
          "2023-09-30T00:00:00",
          "2023-10-31T00:00:00",
          "2023-11-30T00:00:00",
          "2023-12-31T00:00:00",
          "2024-01-31T00:00:00",
          "2024-02-29T00:00:00",
          "2024-03-31T00:00:00",
          "2024-04-30T00:00:00",
          "2024-05-31T00:00:00",
          "2024-06-30T00:00:00",
          "2024-07-31T00:00:00",
          "2024-08-31T00:00:00"
         ],
         "y": [
          257933.26999999996,
          257221.99,
          298273.3600000001,
          253546.34999999998,
          288490.3999999999,
          252954.14999999997,
          300068.58999999997,
          288802.6,
          302948.3,
          310233.31999999995,
          313450.54000000004,
          318139.64999999997
         ]
        },
        {
         "hovertemplate": "%{y:,.0f} THB Million",
         "line": {
          "color": "black"
         },
         "mode": "lines+markers",
         "name": "Imports",
         "type": "scatter",
         "x": [
          "2023-09-30T00:00:00",
          "2023-10-31T00:00:00",
          "2023-11-30T00:00:00",
          "2023-12-31T00:00:00",
          "2024-01-31T00:00:00",
          "2024-02-29T00:00:00",
          "2024-03-31T00:00:00",
          "2024-04-30T00:00:00",
          "2024-05-31T00:00:00",
          "2024-06-30T00:00:00",
          "2024-07-31T00:00:00",
          "2024-08-31T00:00:00"
         ],
         "y": [
          821920.54,
          872649.58,
          934992.19,
          761899.49,
          890687.35,
          856508.11,
          944827.89,
          903193.99,
          947006.51,
          895256.1,
          999754.54,
          941018.53
         ]
        }
       ],
       "layout": {
        "bargap": 0,
        "bargroupgap": 0,
        "barmode": "stack",
        "legend": {
         "title": {
          "text": "Legend"
         }
        },
        "template": {
         "data": {
          "bar": [
           {
            "error_x": {
             "color": "#2a3f5f"
            },
            "error_y": {
             "color": "#2a3f5f"
            },
            "marker": {
             "line": {
              "color": "#E5ECF6",
              "width": 0.5
             },
             "pattern": {
              "fillmode": "overlay",
              "size": 10,
              "solidity": 0.2
             }
            },
            "type": "bar"
           }
          ],
          "barpolar": [
           {
            "marker": {
             "line": {
              "color": "#E5ECF6",
              "width": 0.5
             },
             "pattern": {
              "fillmode": "overlay",
              "size": 10,
              "solidity": 0.2
             }
            },
            "type": "barpolar"
           }
          ],
          "carpet": [
           {
            "aaxis": {
             "endlinecolor": "#2a3f5f",
             "gridcolor": "white",
             "linecolor": "white",
             "minorgridcolor": "white",
             "startlinecolor": "#2a3f5f"
            },
            "baxis": {
             "endlinecolor": "#2a3f5f",
             "gridcolor": "white",
             "linecolor": "white",
             "minorgridcolor": "white",
             "startlinecolor": "#2a3f5f"
            },
            "type": "carpet"
           }
          ],
          "choropleth": [
           {
            "colorbar": {
             "outlinewidth": 0,
             "ticks": ""
            },
            "type": "choropleth"
           }
          ],
          "contour": [
           {
            "colorbar": {
             "outlinewidth": 0,
             "ticks": ""
            },
            "colorscale": [
             [
              0,
              "#0d0887"
             ],
             [
              0.1111111111111111,
              "#46039f"
             ],
             [
              0.2222222222222222,
              "#7201a8"
             ],
             [
              0.3333333333333333,
              "#9c179e"
             ],
             [
              0.4444444444444444,
              "#bd3786"
             ],
             [
              0.5555555555555556,
              "#d8576b"
             ],
             [
              0.6666666666666666,
              "#ed7953"
             ],
             [
              0.7777777777777778,
              "#fb9f3a"
             ],
             [
              0.8888888888888888,
              "#fdca26"
             ],
             [
              1,
              "#f0f921"
             ]
            ],
            "type": "contour"
           }
          ],
          "contourcarpet": [
           {
            "colorbar": {
             "outlinewidth": 0,
             "ticks": ""
            },
            "type": "contourcarpet"
           }
          ],
          "heatmap": [
           {
            "colorbar": {
             "outlinewidth": 0,
             "ticks": ""
            },
            "colorscale": [
             [
              0,
              "#0d0887"
             ],
             [
              0.1111111111111111,
              "#46039f"
             ],
             [
              0.2222222222222222,
              "#7201a8"
             ],
             [
              0.3333333333333333,
              "#9c179e"
             ],
             [
              0.4444444444444444,
              "#bd3786"
             ],
             [
              0.5555555555555556,
              "#d8576b"
             ],
             [
              0.6666666666666666,
              "#ed7953"
             ],
             [
              0.7777777777777778,
              "#fb9f3a"
             ],
             [
              0.8888888888888888,
              "#fdca26"
             ],
             [
              1,
              "#f0f921"
             ]
            ],
            "type": "heatmap"
           }
          ],
          "heatmapgl": [
           {
            "colorbar": {
             "outlinewidth": 0,
             "ticks": ""
            },
            "colorscale": [
             [
              0,
              "#0d0887"
             ],
             [
              0.1111111111111111,
              "#46039f"
             ],
             [
              0.2222222222222222,
              "#7201a8"
             ],
             [
              0.3333333333333333,
              "#9c179e"
             ],
             [
              0.4444444444444444,
              "#bd3786"
             ],
             [
              0.5555555555555556,
              "#d8576b"
             ],
             [
              0.6666666666666666,
              "#ed7953"
             ],
             [
              0.7777777777777778,
              "#fb9f3a"
             ],
             [
              0.8888888888888888,
              "#fdca26"
             ],
             [
              1,
              "#f0f921"
             ]
            ],
            "type": "heatmapgl"
           }
          ],
          "histogram": [
           {
            "marker": {
             "pattern": {
              "fillmode": "overlay",
              "size": 10,
              "solidity": 0.2
             }
            },
            "type": "histogram"
           }
          ],
          "histogram2d": [
           {
            "colorbar": {
             "outlinewidth": 0,
             "ticks": ""
            },
            "colorscale": [
             [
              0,
              "#0d0887"
             ],
             [
              0.1111111111111111,
              "#46039f"
             ],
             [
              0.2222222222222222,
              "#7201a8"
             ],
             [
              0.3333333333333333,
              "#9c179e"
             ],
             [
              0.4444444444444444,
              "#bd3786"
             ],
             [
              0.5555555555555556,
              "#d8576b"
             ],
             [
              0.6666666666666666,
              "#ed7953"
             ],
             [
              0.7777777777777778,
              "#fb9f3a"
             ],
             [
              0.8888888888888888,
              "#fdca26"
             ],
             [
              1,
              "#f0f921"
             ]
            ],
            "type": "histogram2d"
           }
          ],
          "histogram2dcontour": [
           {
            "colorbar": {
             "outlinewidth": 0,
             "ticks": ""
            },
            "colorscale": [
             [
              0,
              "#0d0887"
             ],
             [
              0.1111111111111111,
              "#46039f"
             ],
             [
              0.2222222222222222,
              "#7201a8"
             ],
             [
              0.3333333333333333,
              "#9c179e"
             ],
             [
              0.4444444444444444,
              "#bd3786"
             ],
             [
              0.5555555555555556,
              "#d8576b"
             ],
             [
              0.6666666666666666,
              "#ed7953"
             ],
             [
              0.7777777777777778,
              "#fb9f3a"
             ],
             [
              0.8888888888888888,
              "#fdca26"
             ],
             [
              1,
              "#f0f921"
             ]
            ],
            "type": "histogram2dcontour"
           }
          ],
          "mesh3d": [
           {
            "colorbar": {
             "outlinewidth": 0,
             "ticks": ""
            },
            "type": "mesh3d"
           }
          ],
          "parcoords": [
           {
            "line": {
             "colorbar": {
              "outlinewidth": 0,
              "ticks": ""
             }
            },
            "type": "parcoords"
           }
          ],
          "pie": [
           {
            "automargin": true,
            "type": "pie"
           }
          ],
          "scatter": [
           {
            "fillpattern": {
             "fillmode": "overlay",
             "size": 10,
             "solidity": 0.2
            },
            "type": "scatter"
           }
          ],
          "scatter3d": [
           {
            "line": {
             "colorbar": {
              "outlinewidth": 0,
              "ticks": ""
             }
            },
            "marker": {
             "colorbar": {
              "outlinewidth": 0,
              "ticks": ""
             }
            },
            "type": "scatter3d"
           }
          ],
          "scattercarpet": [
           {
            "marker": {
             "colorbar": {
              "outlinewidth": 0,
              "ticks": ""
             }
            },
            "type": "scattercarpet"
           }
          ],
          "scattergeo": [
           {
            "marker": {
             "colorbar": {
              "outlinewidth": 0,
              "ticks": ""
             }
            },
            "type": "scattergeo"
           }
          ],
          "scattergl": [
           {
            "marker": {
             "colorbar": {
              "outlinewidth": 0,
              "ticks": ""
             }
            },
            "type": "scattergl"
           }
          ],
          "scattermapbox": [
           {
            "marker": {
             "colorbar": {
              "outlinewidth": 0,
              "ticks": ""
             }
            },
            "type": "scattermapbox"
           }
          ],
          "scatterpolar": [
           {
            "marker": {
             "colorbar": {
              "outlinewidth": 0,
              "ticks": ""
             }
            },
            "type": "scatterpolar"
           }
          ],
          "scatterpolargl": [
           {
            "marker": {
             "colorbar": {
              "outlinewidth": 0,
              "ticks": ""
             }
            },
            "type": "scatterpolargl"
           }
          ],
          "scatterternary": [
           {
            "marker": {
             "colorbar": {
              "outlinewidth": 0,
              "ticks": ""
             }
            },
            "type": "scatterternary"
           }
          ],
          "surface": [
           {
            "colorbar": {
             "outlinewidth": 0,
             "ticks": ""
            },
            "colorscale": [
             [
              0,
              "#0d0887"
             ],
             [
              0.1111111111111111,
              "#46039f"
             ],
             [
              0.2222222222222222,
              "#7201a8"
             ],
             [
              0.3333333333333333,
              "#9c179e"
             ],
             [
              0.4444444444444444,
              "#bd3786"
             ],
             [
              0.5555555555555556,
              "#d8576b"
             ],
             [
              0.6666666666666666,
              "#ed7953"
             ],
             [
              0.7777777777777778,
              "#fb9f3a"
             ],
             [
              0.8888888888888888,
              "#fdca26"
             ],
             [
              1,
              "#f0f921"
             ]
            ],
            "type": "surface"
           }
          ],
          "table": [
           {
            "cells": {
             "fill": {
              "color": "#EBF0F8"
             },
             "line": {
              "color": "white"
             }
            },
            "header": {
             "fill": {
              "color": "#C8D4E3"
             },
             "line": {
              "color": "white"
             }
            },
            "type": "table"
           }
          ]
         },
         "layout": {
          "annotationdefaults": {
           "arrowcolor": "#2a3f5f",
           "arrowhead": 0,
           "arrowwidth": 1
          },
          "autotypenumbers": "strict",
          "coloraxis": {
           "colorbar": {
            "outlinewidth": 0,
            "ticks": ""
           }
          },
          "colorscale": {
           "diverging": [
            [
             0,
             "#8e0152"
            ],
            [
             0.1,
             "#c51b7d"
            ],
            [
             0.2,
             "#de77ae"
            ],
            [
             0.3,
             "#f1b6da"
            ],
            [
             0.4,
             "#fde0ef"
            ],
            [
             0.5,
             "#f7f7f7"
            ],
            [
             0.6,
             "#e6f5d0"
            ],
            [
             0.7,
             "#b8e186"
            ],
            [
             0.8,
             "#7fbc41"
            ],
            [
             0.9,
             "#4d9221"
            ],
            [
             1,
             "#276419"
            ]
           ],
           "sequential": [
            [
             0,
             "#0d0887"
            ],
            [
             0.1111111111111111,
             "#46039f"
            ],
            [
             0.2222222222222222,
             "#7201a8"
            ],
            [
             0.3333333333333333,
             "#9c179e"
            ],
            [
             0.4444444444444444,
             "#bd3786"
            ],
            [
             0.5555555555555556,
             "#d8576b"
            ],
            [
             0.6666666666666666,
             "#ed7953"
            ],
            [
             0.7777777777777778,
             "#fb9f3a"
            ],
            [
             0.8888888888888888,
             "#fdca26"
            ],
            [
             1,
             "#f0f921"
            ]
           ],
           "sequentialminus": [
            [
             0,
             "#0d0887"
            ],
            [
             0.1111111111111111,
             "#46039f"
            ],
            [
             0.2222222222222222,
             "#7201a8"
            ],
            [
             0.3333333333333333,
             "#9c179e"
            ],
            [
             0.4444444444444444,
             "#bd3786"
            ],
            [
             0.5555555555555556,
             "#d8576b"
            ],
            [
             0.6666666666666666,
             "#ed7953"
            ],
            [
             0.7777777777777778,
             "#fb9f3a"
            ],
            [
             0.8888888888888888,
             "#fdca26"
            ],
            [
             1,
             "#f0f921"
            ]
           ]
          },
          "colorway": [
           "#636efa",
           "#EF553B",
           "#00cc96",
           "#ab63fa",
           "#FFA15A",
           "#19d3f3",
           "#FF6692",
           "#B6E880",
           "#FF97FF",
           "#FECB52"
          ],
          "font": {
           "color": "#2a3f5f"
          },
          "geo": {
           "bgcolor": "white",
           "lakecolor": "white",
           "landcolor": "#E5ECF6",
           "showlakes": true,
           "showland": true,
           "subunitcolor": "white"
          },
          "hoverlabel": {
           "align": "left"
          },
          "hovermode": "closest",
          "mapbox": {
           "style": "light"
          },
          "paper_bgcolor": "white",
          "plot_bgcolor": "#E5ECF6",
          "polar": {
           "angularaxis": {
            "gridcolor": "white",
            "linecolor": "white",
            "ticks": ""
           },
           "bgcolor": "#E5ECF6",
           "radialaxis": {
            "gridcolor": "white",
            "linecolor": "white",
            "ticks": ""
           }
          },
          "scene": {
           "xaxis": {
            "backgroundcolor": "#E5ECF6",
            "gridcolor": "white",
            "gridwidth": 2,
            "linecolor": "white",
            "showbackground": true,
            "ticks": "",
            "zerolinecolor": "white"
           },
           "yaxis": {
            "backgroundcolor": "#E5ECF6",
            "gridcolor": "white",
            "gridwidth": 2,
            "linecolor": "white",
            "showbackground": true,
            "ticks": "",
            "zerolinecolor": "white"
           },
           "zaxis": {
            "backgroundcolor": "#E5ECF6",
            "gridcolor": "white",
            "gridwidth": 2,
            "linecolor": "white",
            "showbackground": true,
            "ticks": "",
            "zerolinecolor": "white"
           }
          },
          "shapedefaults": {
           "line": {
            "color": "#2a3f5f"
           }
          },
          "ternary": {
           "aaxis": {
            "gridcolor": "white",
            "linecolor": "white",
            "ticks": ""
           },
           "baxis": {
            "gridcolor": "white",
            "linecolor": "white",
            "ticks": ""
           },
           "bgcolor": "#E5ECF6",
           "caxis": {
            "gridcolor": "white",
            "linecolor": "white",
            "ticks": ""
           }
          },
          "title": {
           "x": 0.05
          },
          "xaxis": {
           "automargin": true,
           "gridcolor": "white",
           "linecolor": "white",
           "ticks": "",
           "title": {
            "standoff": 15
           },
           "zerolinecolor": "white",
           "zerolinewidth": 2
          },
          "yaxis": {
           "automargin": true,
           "gridcolor": "white",
           "linecolor": "white",
           "ticks": "",
           "title": {
            "standoff": 15
           },
           "zerolinecolor": "white",
           "zerolinewidth": 2
          }
         }
        },
        "title": {
         "text": "Imports in THB Million"
        },
        "xaxis": {
         "tickangle": -90,
         "tickformat": "%b %y",
         "tickmode": "array",
         "tickvals": [
          "2023-09-30T00:00:00",
          "2023-10-31T00:00:00",
          "2023-11-30T00:00:00",
          "2023-12-31T00:00:00",
          "2024-01-31T00:00:00",
          "2024-02-29T00:00:00",
          "2024-03-31T00:00:00",
          "2024-04-30T00:00:00",
          "2024-05-31T00:00:00",
          "2024-06-30T00:00:00",
          "2024-07-31T00:00:00",
          "2024-08-31T00:00:00"
         ]
        }
       }
      }
     },
     "metadata": {},
     "output_type": "display_data"
    }
   ],
   "source": [
    "fig = create_value_chart(\n",
    "    df=df_im, \n",
    "    li_columns=['Machinery', 'Food', 'Manufactured goods', 'Chemicals'], \n",
    "    str_agg_column='Imports'\n",
    ")\n",
    "fig.update_layout(\n",
    "    title='Imports in THB Million',\n",
    ")\n",
    "fig.show()"
   ]
  },
  {
   "cell_type": "code",
   "execution_count": 123,
   "metadata": {},
   "outputs": [],
   "source": [
    "def create_ctg_chart(df, li_columns, str_agg_column):\n",
    "    df = (df - df.shift(12)).div(df[str_agg_column], axis=0)\n",
    "    # Create the figure and add the components\n",
    "    n = 12\n",
    "    df = df.tail(n)\n",
    "    idx = df.index\n",
    "    fig = go.Figure(\n",
    "        data=[\n",
    "            go.Bar(\n",
    "                name=li_columns[0], \n",
    "                x=idx, \n",
    "                y=df[li_columns[0]],\n",
    "                hovertemplate='%{y:.1%}',\n",
    "            ), \n",
    "            go.Bar(\n",
    "                name=li_columns[1], \n",
    "                x=idx, \n",
    "                y=df[li_columns[1]],\n",
    "                hovertemplate='%{y:.1%}',\n",
    "            ), \n",
    "            go.Bar(\n",
    "                name=li_columns[2], \n",
    "                x=idx, \n",
    "                y=df[li_columns[2]],\n",
    "                hovertemplate='%{y:.1%}',\n",
    "            ), \n",
    "            go.Bar(\n",
    "                name=li_columns[3], \n",
    "                x=idx, \n",
    "                y=df[li_columns[3]],\n",
    "                hovertemplate='%{y:.1%}',\n",
    "            ), \n",
    "            go.Bar(\n",
    "                name='Others', \n",
    "                x=idx, \n",
    "                y=df[str_agg_column] - df[li_columns[0]] - df[li_columns[1]] - df[li_columns[2]] - df[li_columns[3]],\n",
    "                hovertemplate='%{y:.1%}',\n",
    "            ), \n",
    "            go.Scatter(\n",
    "                name=str_agg_column, \n",
    "                x=idx, \n",
    "                y=df[str_agg_column], \n",
    "                mode='lines+markers', \n",
    "                line=dict(color='black'),\n",
    "                hovertemplate='%{y:.1%}',\n",
    "            )\n",
    "        ]\n",
    "    )\n",
    "\n",
    "    # Customize the layout to stack the bars\n",
    "    fig.update_layout(\n",
    "        barmode='relative',\n",
    "        bargap=0,\n",
    "        bargroupgap=0,\n",
    "        legend_title='Legend',\n",
    "        xaxis=dict(\n",
    "            tickformat='%b %y',\n",
    "            tickangle=-90,\n",
    "            tickmode='array',\n",
    "            tickvals=df.index,\n",
    "        ),\n",
    "        yaxis=dict(\n",
    "            tickformat='.1%', \n",
    "        ),\n",
    "    )\n",
    "    \n",
    "    return fig"
   ]
  },
  {
   "cell_type": "code",
   "execution_count": 124,
   "metadata": {},
   "outputs": [
    {
     "data": {
      "application/vnd.plotly.v1+json": {
       "config": {
        "plotlyServerURL": "https://plot.ly"
       },
       "data": [
        {
         "hovertemplate": "%{y:.1%}",
         "name": "Machinery",
         "type": "bar",
         "x": [
          "2023-09-30T00:00:00",
          "2023-10-31T00:00:00",
          "2023-11-30T00:00:00",
          "2023-12-31T00:00:00",
          "2024-01-31T00:00:00",
          "2024-02-29T00:00:00",
          "2024-03-31T00:00:00",
          "2024-04-30T00:00:00",
          "2024-05-31T00:00:00",
          "2024-06-30T00:00:00",
          "2024-07-31T00:00:00",
          "2024-08-31T00:00:00"
         ],
         "y": [
          -0.012563689103898079,
          0.010709168081682372,
          -0.006969665294099019,
          -0.005717497585409661,
          0.01710767924985539,
          0.043089902310618836,
          -0.01573136853673837,
          0.08441539093824907,
          0.04575856560603938,
          0.03109290368574688,
          0.0617840575512076,
          0.032153391080766744
         ]
        },
        {
         "hovertemplate": "%{y:.1%}",
         "name": "Food",
         "type": "bar",
         "x": [
          "2023-09-30T00:00:00",
          "2023-10-31T00:00:00",
          "2023-11-30T00:00:00",
          "2023-12-31T00:00:00",
          "2024-01-31T00:00:00",
          "2024-02-29T00:00:00",
          "2024-03-31T00:00:00",
          "2024-04-30T00:00:00",
          "2024-05-31T00:00:00",
          "2024-06-30T00:00:00",
          "2024-07-31T00:00:00",
          "2024-08-31T00:00:00"
         ],
         "y": [
          0.01901865559769238,
          0.00813076847332555,
          0.0017708804761413543,
          -0.007192575414780494,
          0.013432657590826158,
          0.0074029997109434096,
          -0.003954208510414254,
          0.005979101489488909,
          0.032450756828296644,
          -0.004478035861586679,
          0.006939266188275474,
          0.020051034084257728
         ]
        },
        {
         "hovertemplate": "%{y:.1%}",
         "name": "Manufactured goods",
         "type": "bar",
         "x": [
          "2023-09-30T00:00:00",
          "2023-10-31T00:00:00",
          "2023-11-30T00:00:00",
          "2023-12-31T00:00:00",
          "2024-01-31T00:00:00",
          "2024-02-29T00:00:00",
          "2024-03-31T00:00:00",
          "2024-04-30T00:00:00",
          "2024-05-31T00:00:00",
          "2024-06-30T00:00:00",
          "2024-07-31T00:00:00",
          "2024-08-31T00:00:00"
         ],
         "y": [
          0.0037139685669954864,
          0.0030578661716902026,
          0.009248459302037082,
          0.007796039195837263,
          0.03591209981906126,
          0.018910472644483957,
          0.007652323098340399,
          0.01721374719492063,
          0.009783274348960945,
          -0.004259512855103946,
          0.010391223418033845,
          0.012773805446757823
         ]
        },
        {
         "hovertemplate": "%{y:.1%}",
         "name": "Chemicals",
         "type": "bar",
         "x": [
          "2023-09-30T00:00:00",
          "2023-10-31T00:00:00",
          "2023-11-30T00:00:00",
          "2023-12-31T00:00:00",
          "2024-01-31T00:00:00",
          "2024-02-29T00:00:00",
          "2024-03-31T00:00:00",
          "2024-04-30T00:00:00",
          "2024-05-31T00:00:00",
          "2024-06-30T00:00:00",
          "2024-07-31T00:00:00",
          "2024-08-31T00:00:00"
         ],
         "y": [
          -0.009474561713015637,
          -0.0013790194096474544,
          -0.006138169145446054,
          -0.0023347900074612415,
          0.004117398240927285,
          0.007284821271219661,
          -0.0013924847870616748,
          0.009234809466828359,
          0.00621786388967099,
          0.001066213949514526,
          0.01675754007771775,
          0.008861163227496152
         ]
        },
        {
         "hovertemplate": "%{y:.1%}",
         "name": "Others",
         "type": "bar",
         "x": [
          "2023-09-30T00:00:00",
          "2023-10-31T00:00:00",
          "2023-11-30T00:00:00",
          "2023-12-31T00:00:00",
          "2024-01-31T00:00:00",
          "2024-02-29T00:00:00",
          "2024-03-31T00:00:00",
          "2024-04-30T00:00:00",
          "2024-05-31T00:00:00",
          "2024-06-30T00:00:00",
          "2024-07-31T00:00:00",
          "2024-08-31T00:00:00"
         ],
         "y": [
          0.006781629350324095,
          0.03174442887791518,
          0.008253147259324196,
          0.029093675598779373,
          0.021166855287656244,
          0.033071683245318534,
          -0.0567262215319234,
          -0.004729428655575312,
          0.034321931326519076,
          0.02395740897106553,
          0.08288151525460132,
          0.04155835262117365
         ]
        },
        {
         "hovertemplate": "%{y:.1%}",
         "line": {
          "color": "black"
         },
         "mode": "lines+markers",
         "name": "Exports",
         "type": "scatter",
         "x": [
          "2023-09-30T00:00:00",
          "2023-10-31T00:00:00",
          "2023-11-30T00:00:00",
          "2023-12-31T00:00:00",
          "2024-01-31T00:00:00",
          "2024-02-29T00:00:00",
          "2024-03-31T00:00:00",
          "2024-04-30T00:00:00",
          "2024-05-31T00:00:00",
          "2024-06-30T00:00:00",
          "2024-07-31T00:00:00",
          "2024-08-31T00:00:00"
         ],
         "y": [
          0.007476002698098246,
          0.05226321219496585,
          0.006164652597957558,
          0.021644851786965246,
          0.09173669018832634,
          0.1097598791825844,
          -0.0701519602677973,
          0.11211362043391165,
          0.12853239199948704,
          0.04737897788963631,
          0.178753602489836,
          0.1153977464604521
         ]
        }
       ],
       "layout": {
        "bargap": 0,
        "bargroupgap": 0,
        "barmode": "relative",
        "legend": {
         "title": {
          "text": "Legend"
         }
        },
        "template": {
         "data": {
          "bar": [
           {
            "error_x": {
             "color": "#2a3f5f"
            },
            "error_y": {
             "color": "#2a3f5f"
            },
            "marker": {
             "line": {
              "color": "#E5ECF6",
              "width": 0.5
             },
             "pattern": {
              "fillmode": "overlay",
              "size": 10,
              "solidity": 0.2
             }
            },
            "type": "bar"
           }
          ],
          "barpolar": [
           {
            "marker": {
             "line": {
              "color": "#E5ECF6",
              "width": 0.5
             },
             "pattern": {
              "fillmode": "overlay",
              "size": 10,
              "solidity": 0.2
             }
            },
            "type": "barpolar"
           }
          ],
          "carpet": [
           {
            "aaxis": {
             "endlinecolor": "#2a3f5f",
             "gridcolor": "white",
             "linecolor": "white",
             "minorgridcolor": "white",
             "startlinecolor": "#2a3f5f"
            },
            "baxis": {
             "endlinecolor": "#2a3f5f",
             "gridcolor": "white",
             "linecolor": "white",
             "minorgridcolor": "white",
             "startlinecolor": "#2a3f5f"
            },
            "type": "carpet"
           }
          ],
          "choropleth": [
           {
            "colorbar": {
             "outlinewidth": 0,
             "ticks": ""
            },
            "type": "choropleth"
           }
          ],
          "contour": [
           {
            "colorbar": {
             "outlinewidth": 0,
             "ticks": ""
            },
            "colorscale": [
             [
              0,
              "#0d0887"
             ],
             [
              0.1111111111111111,
              "#46039f"
             ],
             [
              0.2222222222222222,
              "#7201a8"
             ],
             [
              0.3333333333333333,
              "#9c179e"
             ],
             [
              0.4444444444444444,
              "#bd3786"
             ],
             [
              0.5555555555555556,
              "#d8576b"
             ],
             [
              0.6666666666666666,
              "#ed7953"
             ],
             [
              0.7777777777777778,
              "#fb9f3a"
             ],
             [
              0.8888888888888888,
              "#fdca26"
             ],
             [
              1,
              "#f0f921"
             ]
            ],
            "type": "contour"
           }
          ],
          "contourcarpet": [
           {
            "colorbar": {
             "outlinewidth": 0,
             "ticks": ""
            },
            "type": "contourcarpet"
           }
          ],
          "heatmap": [
           {
            "colorbar": {
             "outlinewidth": 0,
             "ticks": ""
            },
            "colorscale": [
             [
              0,
              "#0d0887"
             ],
             [
              0.1111111111111111,
              "#46039f"
             ],
             [
              0.2222222222222222,
              "#7201a8"
             ],
             [
              0.3333333333333333,
              "#9c179e"
             ],
             [
              0.4444444444444444,
              "#bd3786"
             ],
             [
              0.5555555555555556,
              "#d8576b"
             ],
             [
              0.6666666666666666,
              "#ed7953"
             ],
             [
              0.7777777777777778,
              "#fb9f3a"
             ],
             [
              0.8888888888888888,
              "#fdca26"
             ],
             [
              1,
              "#f0f921"
             ]
            ],
            "type": "heatmap"
           }
          ],
          "heatmapgl": [
           {
            "colorbar": {
             "outlinewidth": 0,
             "ticks": ""
            },
            "colorscale": [
             [
              0,
              "#0d0887"
             ],
             [
              0.1111111111111111,
              "#46039f"
             ],
             [
              0.2222222222222222,
              "#7201a8"
             ],
             [
              0.3333333333333333,
              "#9c179e"
             ],
             [
              0.4444444444444444,
              "#bd3786"
             ],
             [
              0.5555555555555556,
              "#d8576b"
             ],
             [
              0.6666666666666666,
              "#ed7953"
             ],
             [
              0.7777777777777778,
              "#fb9f3a"
             ],
             [
              0.8888888888888888,
              "#fdca26"
             ],
             [
              1,
              "#f0f921"
             ]
            ],
            "type": "heatmapgl"
           }
          ],
          "histogram": [
           {
            "marker": {
             "pattern": {
              "fillmode": "overlay",
              "size": 10,
              "solidity": 0.2
             }
            },
            "type": "histogram"
           }
          ],
          "histogram2d": [
           {
            "colorbar": {
             "outlinewidth": 0,
             "ticks": ""
            },
            "colorscale": [
             [
              0,
              "#0d0887"
             ],
             [
              0.1111111111111111,
              "#46039f"
             ],
             [
              0.2222222222222222,
              "#7201a8"
             ],
             [
              0.3333333333333333,
              "#9c179e"
             ],
             [
              0.4444444444444444,
              "#bd3786"
             ],
             [
              0.5555555555555556,
              "#d8576b"
             ],
             [
              0.6666666666666666,
              "#ed7953"
             ],
             [
              0.7777777777777778,
              "#fb9f3a"
             ],
             [
              0.8888888888888888,
              "#fdca26"
             ],
             [
              1,
              "#f0f921"
             ]
            ],
            "type": "histogram2d"
           }
          ],
          "histogram2dcontour": [
           {
            "colorbar": {
             "outlinewidth": 0,
             "ticks": ""
            },
            "colorscale": [
             [
              0,
              "#0d0887"
             ],
             [
              0.1111111111111111,
              "#46039f"
             ],
             [
              0.2222222222222222,
              "#7201a8"
             ],
             [
              0.3333333333333333,
              "#9c179e"
             ],
             [
              0.4444444444444444,
              "#bd3786"
             ],
             [
              0.5555555555555556,
              "#d8576b"
             ],
             [
              0.6666666666666666,
              "#ed7953"
             ],
             [
              0.7777777777777778,
              "#fb9f3a"
             ],
             [
              0.8888888888888888,
              "#fdca26"
             ],
             [
              1,
              "#f0f921"
             ]
            ],
            "type": "histogram2dcontour"
           }
          ],
          "mesh3d": [
           {
            "colorbar": {
             "outlinewidth": 0,
             "ticks": ""
            },
            "type": "mesh3d"
           }
          ],
          "parcoords": [
           {
            "line": {
             "colorbar": {
              "outlinewidth": 0,
              "ticks": ""
             }
            },
            "type": "parcoords"
           }
          ],
          "pie": [
           {
            "automargin": true,
            "type": "pie"
           }
          ],
          "scatter": [
           {
            "fillpattern": {
             "fillmode": "overlay",
             "size": 10,
             "solidity": 0.2
            },
            "type": "scatter"
           }
          ],
          "scatter3d": [
           {
            "line": {
             "colorbar": {
              "outlinewidth": 0,
              "ticks": ""
             }
            },
            "marker": {
             "colorbar": {
              "outlinewidth": 0,
              "ticks": ""
             }
            },
            "type": "scatter3d"
           }
          ],
          "scattercarpet": [
           {
            "marker": {
             "colorbar": {
              "outlinewidth": 0,
              "ticks": ""
             }
            },
            "type": "scattercarpet"
           }
          ],
          "scattergeo": [
           {
            "marker": {
             "colorbar": {
              "outlinewidth": 0,
              "ticks": ""
             }
            },
            "type": "scattergeo"
           }
          ],
          "scattergl": [
           {
            "marker": {
             "colorbar": {
              "outlinewidth": 0,
              "ticks": ""
             }
            },
            "type": "scattergl"
           }
          ],
          "scattermapbox": [
           {
            "marker": {
             "colorbar": {
              "outlinewidth": 0,
              "ticks": ""
             }
            },
            "type": "scattermapbox"
           }
          ],
          "scatterpolar": [
           {
            "marker": {
             "colorbar": {
              "outlinewidth": 0,
              "ticks": ""
             }
            },
            "type": "scatterpolar"
           }
          ],
          "scatterpolargl": [
           {
            "marker": {
             "colorbar": {
              "outlinewidth": 0,
              "ticks": ""
             }
            },
            "type": "scatterpolargl"
           }
          ],
          "scatterternary": [
           {
            "marker": {
             "colorbar": {
              "outlinewidth": 0,
              "ticks": ""
             }
            },
            "type": "scatterternary"
           }
          ],
          "surface": [
           {
            "colorbar": {
             "outlinewidth": 0,
             "ticks": ""
            },
            "colorscale": [
             [
              0,
              "#0d0887"
             ],
             [
              0.1111111111111111,
              "#46039f"
             ],
             [
              0.2222222222222222,
              "#7201a8"
             ],
             [
              0.3333333333333333,
              "#9c179e"
             ],
             [
              0.4444444444444444,
              "#bd3786"
             ],
             [
              0.5555555555555556,
              "#d8576b"
             ],
             [
              0.6666666666666666,
              "#ed7953"
             ],
             [
              0.7777777777777778,
              "#fb9f3a"
             ],
             [
              0.8888888888888888,
              "#fdca26"
             ],
             [
              1,
              "#f0f921"
             ]
            ],
            "type": "surface"
           }
          ],
          "table": [
           {
            "cells": {
             "fill": {
              "color": "#EBF0F8"
             },
             "line": {
              "color": "white"
             }
            },
            "header": {
             "fill": {
              "color": "#C8D4E3"
             },
             "line": {
              "color": "white"
             }
            },
            "type": "table"
           }
          ]
         },
         "layout": {
          "annotationdefaults": {
           "arrowcolor": "#2a3f5f",
           "arrowhead": 0,
           "arrowwidth": 1
          },
          "autotypenumbers": "strict",
          "coloraxis": {
           "colorbar": {
            "outlinewidth": 0,
            "ticks": ""
           }
          },
          "colorscale": {
           "diverging": [
            [
             0,
             "#8e0152"
            ],
            [
             0.1,
             "#c51b7d"
            ],
            [
             0.2,
             "#de77ae"
            ],
            [
             0.3,
             "#f1b6da"
            ],
            [
             0.4,
             "#fde0ef"
            ],
            [
             0.5,
             "#f7f7f7"
            ],
            [
             0.6,
             "#e6f5d0"
            ],
            [
             0.7,
             "#b8e186"
            ],
            [
             0.8,
             "#7fbc41"
            ],
            [
             0.9,
             "#4d9221"
            ],
            [
             1,
             "#276419"
            ]
           ],
           "sequential": [
            [
             0,
             "#0d0887"
            ],
            [
             0.1111111111111111,
             "#46039f"
            ],
            [
             0.2222222222222222,
             "#7201a8"
            ],
            [
             0.3333333333333333,
             "#9c179e"
            ],
            [
             0.4444444444444444,
             "#bd3786"
            ],
            [
             0.5555555555555556,
             "#d8576b"
            ],
            [
             0.6666666666666666,
             "#ed7953"
            ],
            [
             0.7777777777777778,
             "#fb9f3a"
            ],
            [
             0.8888888888888888,
             "#fdca26"
            ],
            [
             1,
             "#f0f921"
            ]
           ],
           "sequentialminus": [
            [
             0,
             "#0d0887"
            ],
            [
             0.1111111111111111,
             "#46039f"
            ],
            [
             0.2222222222222222,
             "#7201a8"
            ],
            [
             0.3333333333333333,
             "#9c179e"
            ],
            [
             0.4444444444444444,
             "#bd3786"
            ],
            [
             0.5555555555555556,
             "#d8576b"
            ],
            [
             0.6666666666666666,
             "#ed7953"
            ],
            [
             0.7777777777777778,
             "#fb9f3a"
            ],
            [
             0.8888888888888888,
             "#fdca26"
            ],
            [
             1,
             "#f0f921"
            ]
           ]
          },
          "colorway": [
           "#636efa",
           "#EF553B",
           "#00cc96",
           "#ab63fa",
           "#FFA15A",
           "#19d3f3",
           "#FF6692",
           "#B6E880",
           "#FF97FF",
           "#FECB52"
          ],
          "font": {
           "color": "#2a3f5f"
          },
          "geo": {
           "bgcolor": "white",
           "lakecolor": "white",
           "landcolor": "#E5ECF6",
           "showlakes": true,
           "showland": true,
           "subunitcolor": "white"
          },
          "hoverlabel": {
           "align": "left"
          },
          "hovermode": "closest",
          "mapbox": {
           "style": "light"
          },
          "paper_bgcolor": "white",
          "plot_bgcolor": "#E5ECF6",
          "polar": {
           "angularaxis": {
            "gridcolor": "white",
            "linecolor": "white",
            "ticks": ""
           },
           "bgcolor": "#E5ECF6",
           "radialaxis": {
            "gridcolor": "white",
            "linecolor": "white",
            "ticks": ""
           }
          },
          "scene": {
           "xaxis": {
            "backgroundcolor": "#E5ECF6",
            "gridcolor": "white",
            "gridwidth": 2,
            "linecolor": "white",
            "showbackground": true,
            "ticks": "",
            "zerolinecolor": "white"
           },
           "yaxis": {
            "backgroundcolor": "#E5ECF6",
            "gridcolor": "white",
            "gridwidth": 2,
            "linecolor": "white",
            "showbackground": true,
            "ticks": "",
            "zerolinecolor": "white"
           },
           "zaxis": {
            "backgroundcolor": "#E5ECF6",
            "gridcolor": "white",
            "gridwidth": 2,
            "linecolor": "white",
            "showbackground": true,
            "ticks": "",
            "zerolinecolor": "white"
           }
          },
          "shapedefaults": {
           "line": {
            "color": "#2a3f5f"
           }
          },
          "ternary": {
           "aaxis": {
            "gridcolor": "white",
            "linecolor": "white",
            "ticks": ""
           },
           "baxis": {
            "gridcolor": "white",
            "linecolor": "white",
            "ticks": ""
           },
           "bgcolor": "#E5ECF6",
           "caxis": {
            "gridcolor": "white",
            "linecolor": "white",
            "ticks": ""
           }
          },
          "title": {
           "x": 0.05
          },
          "xaxis": {
           "automargin": true,
           "gridcolor": "white",
           "linecolor": "white",
           "ticks": "",
           "title": {
            "standoff": 15
           },
           "zerolinecolor": "white",
           "zerolinewidth": 2
          },
          "yaxis": {
           "automargin": true,
           "gridcolor": "white",
           "linecolor": "white",
           "ticks": "",
           "title": {
            "standoff": 15
           },
           "zerolinecolor": "white",
           "zerolinewidth": 2
          }
         }
        },
        "title": {
         "text": "Exports Contribution to Growth (%YoY)"
        },
        "xaxis": {
         "tickangle": -90,
         "tickformat": "%b %y",
         "tickmode": "array",
         "tickvals": [
          "2023-09-30T00:00:00",
          "2023-10-31T00:00:00",
          "2023-11-30T00:00:00",
          "2023-12-31T00:00:00",
          "2024-01-31T00:00:00",
          "2024-02-29T00:00:00",
          "2024-03-31T00:00:00",
          "2024-04-30T00:00:00",
          "2024-05-31T00:00:00",
          "2024-06-30T00:00:00",
          "2024-07-31T00:00:00",
          "2024-08-31T00:00:00"
         ]
        },
        "yaxis": {
         "tickformat": ".1%"
        }
       }
      }
     },
     "metadata": {},
     "output_type": "display_data"
    }
   ],
   "source": [
    "fig = create_ctg_chart(\n",
    "    df=df_ex, \n",
    "    li_columns=['Machinery', 'Food', 'Manufactured goods', 'Chemicals'], \n",
    "    str_agg_column='Exports'\n",
    ")\n",
    "fig.update_layout(\n",
    "    title='Exports Contribution to Growth (%YoY)',\n",
    ")\n",
    "fig.show()"
   ]
  },
  {
   "cell_type": "code",
   "execution_count": 125,
   "metadata": {},
   "outputs": [
    {
     "data": {
      "application/vnd.plotly.v1+json": {
       "config": {
        "plotlyServerURL": "https://plot.ly"
       },
       "data": [
        {
         "hovertemplate": "%{y:.1%}",
         "name": "Machinery",
         "type": "bar",
         "x": [
          "2023-09-30T00:00:00",
          "2023-10-31T00:00:00",
          "2023-11-30T00:00:00",
          "2023-12-31T00:00:00",
          "2024-01-31T00:00:00",
          "2024-02-29T00:00:00",
          "2024-03-31T00:00:00",
          "2024-04-30T00:00:00",
          "2024-05-31T00:00:00",
          "2024-06-30T00:00:00",
          "2024-07-31T00:00:00",
          "2024-08-31T00:00:00"
         ],
         "y": [
          0.015593368672840332,
          0.06498955743495573,
          0.061151002769338665,
          0.0003398742267172428,
          0.029615173045850474,
          0.0969561630887535,
          0.060218480637780535,
          0.06325157234493999,
          0.02866096453761442,
          0.020656290417903865,
          0.04044229696621332,
          0.020628871144545924
         ]
        },
        {
         "hovertemplate": "%{y:.1%}",
         "name": "Food",
         "type": "bar",
         "x": [
          "2023-09-30T00:00:00",
          "2023-10-31T00:00:00",
          "2023-11-30T00:00:00",
          "2023-12-31T00:00:00",
          "2024-01-31T00:00:00",
          "2024-02-29T00:00:00",
          "2024-03-31T00:00:00",
          "2024-04-30T00:00:00",
          "2024-05-31T00:00:00",
          "2024-06-30T00:00:00",
          "2024-07-31T00:00:00",
          "2024-08-31T00:00:00"
         ],
         "y": [
          0.003932679429084469,
          0.00007862262421532431,
          -0.0018065391540864086,
          -0.0072619946234640425,
          -0.00001263069471010226,
          0.004482409395983421,
          -0.008769078567314516,
          0.0005353445719894535,
          -0.005845102374217046,
          -0.0035798918320690564,
          0.004984583515869806,
          0.009910740014864534
         ]
        },
        {
         "hovertemplate": "%{y:.1%}",
         "name": "Manufactured goods",
         "type": "bar",
         "x": [
          "2023-09-30T00:00:00",
          "2023-10-31T00:00:00",
          "2023-11-30T00:00:00",
          "2023-12-31T00:00:00",
          "2024-01-31T00:00:00",
          "2024-02-29T00:00:00",
          "2024-03-31T00:00:00",
          "2024-04-30T00:00:00",
          "2024-05-31T00:00:00",
          "2024-06-30T00:00:00",
          "2024-07-31T00:00:00",
          "2024-08-31T00:00:00"
         ],
         "y": [
          -0.007661567868835571,
          -0.003495011136085115,
          -0.015091045840714466,
          -0.007318025636163625,
          -0.0015518239930094465,
          0.017830957841134747,
          -0.019391245954858492,
          0.013672411615582176,
          -0.000808991270820298,
          0.005964896525139584,
          0.02737697995349938,
          0.021383627801675714
         ]
        },
        {
         "hovertemplate": "%{y:.1%}",
         "name": "Chemicals",
         "type": "bar",
         "x": [
          "2023-09-30T00:00:00",
          "2023-10-31T00:00:00",
          "2023-11-30T00:00:00",
          "2023-12-31T00:00:00",
          "2024-01-31T00:00:00",
          "2024-02-29T00:00:00",
          "2024-03-31T00:00:00",
          "2024-04-30T00:00:00",
          "2024-05-31T00:00:00",
          "2024-06-30T00:00:00",
          "2024-07-31T00:00:00",
          "2024-08-31T00:00:00"
         ],
         "y": [
          -0.017199910833229682,
          -0.0046547435455134316,
          -0.010992081121019856,
          -0.01866154287621324,
          -0.00620523015174741,
          0.009512542735876713,
          -0.006509100826818322,
          0.01193609581038067,
          0.003160960319058416,
          -0.0014701491562023464,
          0.02620454216692029,
          0.008040511168255092
         ]
        },
        {
         "hovertemplate": "%{y:.1%}",
         "name": "Others",
         "type": "bar",
         "x": [
          "2023-09-30T00:00:00",
          "2023-10-31T00:00:00",
          "2023-11-30T00:00:00",
          "2023-12-31T00:00:00",
          "2024-01-31T00:00:00",
          "2024-02-29T00:00:00",
          "2024-03-31T00:00:00",
          "2024-04-30T00:00:00",
          "2024-05-31T00:00:00",
          "2024-06-30T00:00:00",
          "2024-07-31T00:00:00",
          "2024-08-31T00:00:00"
         ],
         "y": [
          -0.11329632910743419,
          -0.001892959141743966,
          0.002537721732199672,
          -0.03560173009172114,
          0.005044138103005519,
          -0.023731684221880878,
          0.07170825577555717,
          0.03577497232903422,
          0.027774729869597156,
          0.0313599203624527,
          0.06373341400380138,
          0.0706123502158879
         ]
        },
        {
         "hovertemplate": "%{y:.1%}",
         "line": {
          "color": "black"
         },
         "mode": "lines+markers",
         "name": "Imports",
         "type": "scatter",
         "x": [
          "2023-09-30T00:00:00",
          "2023-10-31T00:00:00",
          "2023-11-30T00:00:00",
          "2023-12-31T00:00:00",
          "2024-01-31T00:00:00",
          "2024-02-29T00:00:00",
          "2024-03-31T00:00:00",
          "2024-04-30T00:00:00",
          "2024-05-31T00:00:00",
          "2024-06-30T00:00:00",
          "2024-07-31T00:00:00",
          "2024-08-31T00:00:00"
         ],
         "y": [
          -0.11863175970757465,
          0.05502546623582854,
          0.035799058385717605,
          -0.0685034190008448,
          0.026889626309389035,
          0.1050503888398675,
          0.09725731106434637,
          0.1251703966719265,
          0.052942561081232645,
          0.052931066317224745,
          0.16274181660630418,
          0.13057610034522915
         ]
        }
       ],
       "layout": {
        "bargap": 0,
        "bargroupgap": 0,
        "barmode": "relative",
        "legend": {
         "title": {
          "text": "Legend"
         }
        },
        "template": {
         "data": {
          "bar": [
           {
            "error_x": {
             "color": "#2a3f5f"
            },
            "error_y": {
             "color": "#2a3f5f"
            },
            "marker": {
             "line": {
              "color": "#E5ECF6",
              "width": 0.5
             },
             "pattern": {
              "fillmode": "overlay",
              "size": 10,
              "solidity": 0.2
             }
            },
            "type": "bar"
           }
          ],
          "barpolar": [
           {
            "marker": {
             "line": {
              "color": "#E5ECF6",
              "width": 0.5
             },
             "pattern": {
              "fillmode": "overlay",
              "size": 10,
              "solidity": 0.2
             }
            },
            "type": "barpolar"
           }
          ],
          "carpet": [
           {
            "aaxis": {
             "endlinecolor": "#2a3f5f",
             "gridcolor": "white",
             "linecolor": "white",
             "minorgridcolor": "white",
             "startlinecolor": "#2a3f5f"
            },
            "baxis": {
             "endlinecolor": "#2a3f5f",
             "gridcolor": "white",
             "linecolor": "white",
             "minorgridcolor": "white",
             "startlinecolor": "#2a3f5f"
            },
            "type": "carpet"
           }
          ],
          "choropleth": [
           {
            "colorbar": {
             "outlinewidth": 0,
             "ticks": ""
            },
            "type": "choropleth"
           }
          ],
          "contour": [
           {
            "colorbar": {
             "outlinewidth": 0,
             "ticks": ""
            },
            "colorscale": [
             [
              0,
              "#0d0887"
             ],
             [
              0.1111111111111111,
              "#46039f"
             ],
             [
              0.2222222222222222,
              "#7201a8"
             ],
             [
              0.3333333333333333,
              "#9c179e"
             ],
             [
              0.4444444444444444,
              "#bd3786"
             ],
             [
              0.5555555555555556,
              "#d8576b"
             ],
             [
              0.6666666666666666,
              "#ed7953"
             ],
             [
              0.7777777777777778,
              "#fb9f3a"
             ],
             [
              0.8888888888888888,
              "#fdca26"
             ],
             [
              1,
              "#f0f921"
             ]
            ],
            "type": "contour"
           }
          ],
          "contourcarpet": [
           {
            "colorbar": {
             "outlinewidth": 0,
             "ticks": ""
            },
            "type": "contourcarpet"
           }
          ],
          "heatmap": [
           {
            "colorbar": {
             "outlinewidth": 0,
             "ticks": ""
            },
            "colorscale": [
             [
              0,
              "#0d0887"
             ],
             [
              0.1111111111111111,
              "#46039f"
             ],
             [
              0.2222222222222222,
              "#7201a8"
             ],
             [
              0.3333333333333333,
              "#9c179e"
             ],
             [
              0.4444444444444444,
              "#bd3786"
             ],
             [
              0.5555555555555556,
              "#d8576b"
             ],
             [
              0.6666666666666666,
              "#ed7953"
             ],
             [
              0.7777777777777778,
              "#fb9f3a"
             ],
             [
              0.8888888888888888,
              "#fdca26"
             ],
             [
              1,
              "#f0f921"
             ]
            ],
            "type": "heatmap"
           }
          ],
          "heatmapgl": [
           {
            "colorbar": {
             "outlinewidth": 0,
             "ticks": ""
            },
            "colorscale": [
             [
              0,
              "#0d0887"
             ],
             [
              0.1111111111111111,
              "#46039f"
             ],
             [
              0.2222222222222222,
              "#7201a8"
             ],
             [
              0.3333333333333333,
              "#9c179e"
             ],
             [
              0.4444444444444444,
              "#bd3786"
             ],
             [
              0.5555555555555556,
              "#d8576b"
             ],
             [
              0.6666666666666666,
              "#ed7953"
             ],
             [
              0.7777777777777778,
              "#fb9f3a"
             ],
             [
              0.8888888888888888,
              "#fdca26"
             ],
             [
              1,
              "#f0f921"
             ]
            ],
            "type": "heatmapgl"
           }
          ],
          "histogram": [
           {
            "marker": {
             "pattern": {
              "fillmode": "overlay",
              "size": 10,
              "solidity": 0.2
             }
            },
            "type": "histogram"
           }
          ],
          "histogram2d": [
           {
            "colorbar": {
             "outlinewidth": 0,
             "ticks": ""
            },
            "colorscale": [
             [
              0,
              "#0d0887"
             ],
             [
              0.1111111111111111,
              "#46039f"
             ],
             [
              0.2222222222222222,
              "#7201a8"
             ],
             [
              0.3333333333333333,
              "#9c179e"
             ],
             [
              0.4444444444444444,
              "#bd3786"
             ],
             [
              0.5555555555555556,
              "#d8576b"
             ],
             [
              0.6666666666666666,
              "#ed7953"
             ],
             [
              0.7777777777777778,
              "#fb9f3a"
             ],
             [
              0.8888888888888888,
              "#fdca26"
             ],
             [
              1,
              "#f0f921"
             ]
            ],
            "type": "histogram2d"
           }
          ],
          "histogram2dcontour": [
           {
            "colorbar": {
             "outlinewidth": 0,
             "ticks": ""
            },
            "colorscale": [
             [
              0,
              "#0d0887"
             ],
             [
              0.1111111111111111,
              "#46039f"
             ],
             [
              0.2222222222222222,
              "#7201a8"
             ],
             [
              0.3333333333333333,
              "#9c179e"
             ],
             [
              0.4444444444444444,
              "#bd3786"
             ],
             [
              0.5555555555555556,
              "#d8576b"
             ],
             [
              0.6666666666666666,
              "#ed7953"
             ],
             [
              0.7777777777777778,
              "#fb9f3a"
             ],
             [
              0.8888888888888888,
              "#fdca26"
             ],
             [
              1,
              "#f0f921"
             ]
            ],
            "type": "histogram2dcontour"
           }
          ],
          "mesh3d": [
           {
            "colorbar": {
             "outlinewidth": 0,
             "ticks": ""
            },
            "type": "mesh3d"
           }
          ],
          "parcoords": [
           {
            "line": {
             "colorbar": {
              "outlinewidth": 0,
              "ticks": ""
             }
            },
            "type": "parcoords"
           }
          ],
          "pie": [
           {
            "automargin": true,
            "type": "pie"
           }
          ],
          "scatter": [
           {
            "fillpattern": {
             "fillmode": "overlay",
             "size": 10,
             "solidity": 0.2
            },
            "type": "scatter"
           }
          ],
          "scatter3d": [
           {
            "line": {
             "colorbar": {
              "outlinewidth": 0,
              "ticks": ""
             }
            },
            "marker": {
             "colorbar": {
              "outlinewidth": 0,
              "ticks": ""
             }
            },
            "type": "scatter3d"
           }
          ],
          "scattercarpet": [
           {
            "marker": {
             "colorbar": {
              "outlinewidth": 0,
              "ticks": ""
             }
            },
            "type": "scattercarpet"
           }
          ],
          "scattergeo": [
           {
            "marker": {
             "colorbar": {
              "outlinewidth": 0,
              "ticks": ""
             }
            },
            "type": "scattergeo"
           }
          ],
          "scattergl": [
           {
            "marker": {
             "colorbar": {
              "outlinewidth": 0,
              "ticks": ""
             }
            },
            "type": "scattergl"
           }
          ],
          "scattermapbox": [
           {
            "marker": {
             "colorbar": {
              "outlinewidth": 0,
              "ticks": ""
             }
            },
            "type": "scattermapbox"
           }
          ],
          "scatterpolar": [
           {
            "marker": {
             "colorbar": {
              "outlinewidth": 0,
              "ticks": ""
             }
            },
            "type": "scatterpolar"
           }
          ],
          "scatterpolargl": [
           {
            "marker": {
             "colorbar": {
              "outlinewidth": 0,
              "ticks": ""
             }
            },
            "type": "scatterpolargl"
           }
          ],
          "scatterternary": [
           {
            "marker": {
             "colorbar": {
              "outlinewidth": 0,
              "ticks": ""
             }
            },
            "type": "scatterternary"
           }
          ],
          "surface": [
           {
            "colorbar": {
             "outlinewidth": 0,
             "ticks": ""
            },
            "colorscale": [
             [
              0,
              "#0d0887"
             ],
             [
              0.1111111111111111,
              "#46039f"
             ],
             [
              0.2222222222222222,
              "#7201a8"
             ],
             [
              0.3333333333333333,
              "#9c179e"
             ],
             [
              0.4444444444444444,
              "#bd3786"
             ],
             [
              0.5555555555555556,
              "#d8576b"
             ],
             [
              0.6666666666666666,
              "#ed7953"
             ],
             [
              0.7777777777777778,
              "#fb9f3a"
             ],
             [
              0.8888888888888888,
              "#fdca26"
             ],
             [
              1,
              "#f0f921"
             ]
            ],
            "type": "surface"
           }
          ],
          "table": [
           {
            "cells": {
             "fill": {
              "color": "#EBF0F8"
             },
             "line": {
              "color": "white"
             }
            },
            "header": {
             "fill": {
              "color": "#C8D4E3"
             },
             "line": {
              "color": "white"
             }
            },
            "type": "table"
           }
          ]
         },
         "layout": {
          "annotationdefaults": {
           "arrowcolor": "#2a3f5f",
           "arrowhead": 0,
           "arrowwidth": 1
          },
          "autotypenumbers": "strict",
          "coloraxis": {
           "colorbar": {
            "outlinewidth": 0,
            "ticks": ""
           }
          },
          "colorscale": {
           "diverging": [
            [
             0,
             "#8e0152"
            ],
            [
             0.1,
             "#c51b7d"
            ],
            [
             0.2,
             "#de77ae"
            ],
            [
             0.3,
             "#f1b6da"
            ],
            [
             0.4,
             "#fde0ef"
            ],
            [
             0.5,
             "#f7f7f7"
            ],
            [
             0.6,
             "#e6f5d0"
            ],
            [
             0.7,
             "#b8e186"
            ],
            [
             0.8,
             "#7fbc41"
            ],
            [
             0.9,
             "#4d9221"
            ],
            [
             1,
             "#276419"
            ]
           ],
           "sequential": [
            [
             0,
             "#0d0887"
            ],
            [
             0.1111111111111111,
             "#46039f"
            ],
            [
             0.2222222222222222,
             "#7201a8"
            ],
            [
             0.3333333333333333,
             "#9c179e"
            ],
            [
             0.4444444444444444,
             "#bd3786"
            ],
            [
             0.5555555555555556,
             "#d8576b"
            ],
            [
             0.6666666666666666,
             "#ed7953"
            ],
            [
             0.7777777777777778,
             "#fb9f3a"
            ],
            [
             0.8888888888888888,
             "#fdca26"
            ],
            [
             1,
             "#f0f921"
            ]
           ],
           "sequentialminus": [
            [
             0,
             "#0d0887"
            ],
            [
             0.1111111111111111,
             "#46039f"
            ],
            [
             0.2222222222222222,
             "#7201a8"
            ],
            [
             0.3333333333333333,
             "#9c179e"
            ],
            [
             0.4444444444444444,
             "#bd3786"
            ],
            [
             0.5555555555555556,
             "#d8576b"
            ],
            [
             0.6666666666666666,
             "#ed7953"
            ],
            [
             0.7777777777777778,
             "#fb9f3a"
            ],
            [
             0.8888888888888888,
             "#fdca26"
            ],
            [
             1,
             "#f0f921"
            ]
           ]
          },
          "colorway": [
           "#636efa",
           "#EF553B",
           "#00cc96",
           "#ab63fa",
           "#FFA15A",
           "#19d3f3",
           "#FF6692",
           "#B6E880",
           "#FF97FF",
           "#FECB52"
          ],
          "font": {
           "color": "#2a3f5f"
          },
          "geo": {
           "bgcolor": "white",
           "lakecolor": "white",
           "landcolor": "#E5ECF6",
           "showlakes": true,
           "showland": true,
           "subunitcolor": "white"
          },
          "hoverlabel": {
           "align": "left"
          },
          "hovermode": "closest",
          "mapbox": {
           "style": "light"
          },
          "paper_bgcolor": "white",
          "plot_bgcolor": "#E5ECF6",
          "polar": {
           "angularaxis": {
            "gridcolor": "white",
            "linecolor": "white",
            "ticks": ""
           },
           "bgcolor": "#E5ECF6",
           "radialaxis": {
            "gridcolor": "white",
            "linecolor": "white",
            "ticks": ""
           }
          },
          "scene": {
           "xaxis": {
            "backgroundcolor": "#E5ECF6",
            "gridcolor": "white",
            "gridwidth": 2,
            "linecolor": "white",
            "showbackground": true,
            "ticks": "",
            "zerolinecolor": "white"
           },
           "yaxis": {
            "backgroundcolor": "#E5ECF6",
            "gridcolor": "white",
            "gridwidth": 2,
            "linecolor": "white",
            "showbackground": true,
            "ticks": "",
            "zerolinecolor": "white"
           },
           "zaxis": {
            "backgroundcolor": "#E5ECF6",
            "gridcolor": "white",
            "gridwidth": 2,
            "linecolor": "white",
            "showbackground": true,
            "ticks": "",
            "zerolinecolor": "white"
           }
          },
          "shapedefaults": {
           "line": {
            "color": "#2a3f5f"
           }
          },
          "ternary": {
           "aaxis": {
            "gridcolor": "white",
            "linecolor": "white",
            "ticks": ""
           },
           "baxis": {
            "gridcolor": "white",
            "linecolor": "white",
            "ticks": ""
           },
           "bgcolor": "#E5ECF6",
           "caxis": {
            "gridcolor": "white",
            "linecolor": "white",
            "ticks": ""
           }
          },
          "title": {
           "x": 0.05
          },
          "xaxis": {
           "automargin": true,
           "gridcolor": "white",
           "linecolor": "white",
           "ticks": "",
           "title": {
            "standoff": 15
           },
           "zerolinecolor": "white",
           "zerolinewidth": 2
          },
          "yaxis": {
           "automargin": true,
           "gridcolor": "white",
           "linecolor": "white",
           "ticks": "",
           "title": {
            "standoff": 15
           },
           "zerolinecolor": "white",
           "zerolinewidth": 2
          }
         }
        },
        "title": {
         "text": "Imports Contribution to Growth (%YoY)"
        },
        "xaxis": {
         "tickangle": -90,
         "tickformat": "%b %y",
         "tickmode": "array",
         "tickvals": [
          "2023-09-30T00:00:00",
          "2023-10-31T00:00:00",
          "2023-11-30T00:00:00",
          "2023-12-31T00:00:00",
          "2024-01-31T00:00:00",
          "2024-02-29T00:00:00",
          "2024-03-31T00:00:00",
          "2024-04-30T00:00:00",
          "2024-05-31T00:00:00",
          "2024-06-30T00:00:00",
          "2024-07-31T00:00:00",
          "2024-08-31T00:00:00"
         ]
        },
        "yaxis": {
         "tickformat": ".1%"
        }
       }
      }
     },
     "metadata": {},
     "output_type": "display_data"
    }
   ],
   "source": [
    "fig = create_ctg_chart(\n",
    "    df=df_im, \n",
    "    li_columns=['Machinery', 'Food', 'Manufactured goods', 'Chemicals'], \n",
    "    str_agg_column='Imports'\n",
    ")\n",
    "fig.update_layout(\n",
    "    title='Imports Contribution to Growth (%YoY)',\n",
    ")\n",
    "fig.show()"
   ]
  },
  {
   "cell_type": "code",
   "execution_count": 89,
   "metadata": {},
   "outputs": [
    {
     "data": {
      "text/html": [
       "<div>\n",
       "<style scoped>\n",
       "    .dataframe tbody tr th:only-of-type {\n",
       "        vertical-align: middle;\n",
       "    }\n",
       "\n",
       "    .dataframe tbody tr th {\n",
       "        vertical-align: top;\n",
       "    }\n",
       "\n",
       "    .dataframe thead th {\n",
       "        text-align: right;\n",
       "    }\n",
       "</style>\n",
       "<table border=\"1\" class=\"dataframe\">\n",
       "  <thead>\n",
       "    <tr style=\"text-align: right;\">\n",
       "      <th></th>\n",
       "      <th>Imports</th>\n",
       "      <th>Food</th>\n",
       "      <th>Beverages and tobacco</th>\n",
       "      <th>Crude materials</th>\n",
       "      <th>Mineral fuel and lubricant</th>\n",
       "      <th>Animal and vegetable oils and fats</th>\n",
       "      <th>Chemicals</th>\n",
       "      <th>Manufactured goods</th>\n",
       "      <th>Machinery</th>\n",
       "      <th>Miscellaneous manufactured goods</th>\n",
       "      <th>Miscellaneous transactions and commodities</th>\n",
       "      <th>Gold</th>\n",
       "    </tr>\n",
       "    <tr>\n",
       "      <th>date</th>\n",
       "      <th></th>\n",
       "      <th></th>\n",
       "      <th></th>\n",
       "      <th></th>\n",
       "      <th></th>\n",
       "      <th></th>\n",
       "      <th></th>\n",
       "      <th></th>\n",
       "      <th></th>\n",
       "      <th></th>\n",
       "      <th></th>\n",
       "      <th></th>\n",
       "    </tr>\n",
       "  </thead>\n",
       "  <tbody>\n",
       "    <tr>\n",
       "      <th>1995-01-31</th>\n",
       "      <td>NaN</td>\n",
       "      <td>NaN</td>\n",
       "      <td>NaN</td>\n",
       "      <td>NaN</td>\n",
       "      <td>NaN</td>\n",
       "      <td>NaN</td>\n",
       "      <td>NaN</td>\n",
       "      <td>NaN</td>\n",
       "      <td>NaN</td>\n",
       "      <td>NaN</td>\n",
       "      <td>NaN</td>\n",
       "      <td>NaN</td>\n",
       "    </tr>\n",
       "    <tr>\n",
       "      <th>1995-02-28</th>\n",
       "      <td>NaN</td>\n",
       "      <td>NaN</td>\n",
       "      <td>NaN</td>\n",
       "      <td>NaN</td>\n",
       "      <td>NaN</td>\n",
       "      <td>NaN</td>\n",
       "      <td>NaN</td>\n",
       "      <td>NaN</td>\n",
       "      <td>NaN</td>\n",
       "      <td>NaN</td>\n",
       "      <td>NaN</td>\n",
       "      <td>NaN</td>\n",
       "    </tr>\n",
       "    <tr>\n",
       "      <th>1995-03-31</th>\n",
       "      <td>NaN</td>\n",
       "      <td>NaN</td>\n",
       "      <td>NaN</td>\n",
       "      <td>NaN</td>\n",
       "      <td>NaN</td>\n",
       "      <td>NaN</td>\n",
       "      <td>NaN</td>\n",
       "      <td>NaN</td>\n",
       "      <td>NaN</td>\n",
       "      <td>NaN</td>\n",
       "      <td>NaN</td>\n",
       "      <td>NaN</td>\n",
       "    </tr>\n",
       "    <tr>\n",
       "      <th>1995-04-30</th>\n",
       "      <td>NaN</td>\n",
       "      <td>NaN</td>\n",
       "      <td>NaN</td>\n",
       "      <td>NaN</td>\n",
       "      <td>NaN</td>\n",
       "      <td>NaN</td>\n",
       "      <td>NaN</td>\n",
       "      <td>NaN</td>\n",
       "      <td>NaN</td>\n",
       "      <td>NaN</td>\n",
       "      <td>NaN</td>\n",
       "      <td>NaN</td>\n",
       "    </tr>\n",
       "    <tr>\n",
       "      <th>1995-05-31</th>\n",
       "      <td>NaN</td>\n",
       "      <td>NaN</td>\n",
       "      <td>NaN</td>\n",
       "      <td>NaN</td>\n",
       "      <td>NaN</td>\n",
       "      <td>NaN</td>\n",
       "      <td>NaN</td>\n",
       "      <td>NaN</td>\n",
       "      <td>NaN</td>\n",
       "      <td>NaN</td>\n",
       "      <td>NaN</td>\n",
       "      <td>NaN</td>\n",
       "    </tr>\n",
       "    <tr>\n",
       "      <th>...</th>\n",
       "      <td>...</td>\n",
       "      <td>...</td>\n",
       "      <td>...</td>\n",
       "      <td>...</td>\n",
       "      <td>...</td>\n",
       "      <td>...</td>\n",
       "      <td>...</td>\n",
       "      <td>...</td>\n",
       "      <td>...</td>\n",
       "      <td>...</td>\n",
       "      <td>...</td>\n",
       "      <td>...</td>\n",
       "    </tr>\n",
       "    <tr>\n",
       "      <th>2024-04-30</th>\n",
       "      <td>0.125170</td>\n",
       "      <td>0.000535</td>\n",
       "      <td>-0.000537</td>\n",
       "      <td>0.003206</td>\n",
       "      <td>-0.023851</td>\n",
       "      <td>0.000120</td>\n",
       "      <td>0.011936</td>\n",
       "      <td>0.013672</td>\n",
       "      <td>0.063252</td>\n",
       "      <td>0.008426</td>\n",
       "      <td>0.000033</td>\n",
       "      <td>0.048378</td>\n",
       "    </tr>\n",
       "    <tr>\n",
       "      <th>2024-05-31</th>\n",
       "      <td>0.052943</td>\n",
       "      <td>-0.005845</td>\n",
       "      <td>-0.000322</td>\n",
       "      <td>-0.001456</td>\n",
       "      <td>0.015271</td>\n",
       "      <td>-0.000063</td>\n",
       "      <td>0.003161</td>\n",
       "      <td>-0.000809</td>\n",
       "      <td>0.028661</td>\n",
       "      <td>0.007130</td>\n",
       "      <td>0.000015</td>\n",
       "      <td>0.007200</td>\n",
       "    </tr>\n",
       "    <tr>\n",
       "      <th>2024-06-30</th>\n",
       "      <td>0.052931</td>\n",
       "      <td>-0.003580</td>\n",
       "      <td>-0.000515</td>\n",
       "      <td>0.001426</td>\n",
       "      <td>0.002230</td>\n",
       "      <td>0.000129</td>\n",
       "      <td>-0.001470</td>\n",
       "      <td>0.005965</td>\n",
       "      <td>0.020656</td>\n",
       "      <td>0.005482</td>\n",
       "      <td>0.000042</td>\n",
       "      <td>0.022567</td>\n",
       "    </tr>\n",
       "    <tr>\n",
       "      <th>2024-07-31</th>\n",
       "      <td>0.162742</td>\n",
       "      <td>0.004985</td>\n",
       "      <td>0.000192</td>\n",
       "      <td>0.002867</td>\n",
       "      <td>0.041336</td>\n",
       "      <td>0.000546</td>\n",
       "      <td>0.026205</td>\n",
       "      <td>0.027377</td>\n",
       "      <td>0.040442</td>\n",
       "      <td>0.015835</td>\n",
       "      <td>0.000038</td>\n",
       "      <td>0.002919</td>\n",
       "    </tr>\n",
       "    <tr>\n",
       "      <th>2024-08-31</th>\n",
       "      <td>0.130576</td>\n",
       "      <td>0.009911</td>\n",
       "      <td>-0.000098</td>\n",
       "      <td>0.008070</td>\n",
       "      <td>0.025846</td>\n",
       "      <td>0.000027</td>\n",
       "      <td>0.008041</td>\n",
       "      <td>0.021384</td>\n",
       "      <td>0.020629</td>\n",
       "      <td>0.006791</td>\n",
       "      <td>0.000039</td>\n",
       "      <td>0.029938</td>\n",
       "    </tr>\n",
       "  </tbody>\n",
       "</table>\n",
       "<p>356 rows × 12 columns</p>\n",
       "</div>"
      ],
      "text/plain": [
       "             Imports      Food  Beverages and tobacco  Crude materials  \\\n",
       "date                                                                     \n",
       "1995-01-31       NaN       NaN                    NaN              NaN   \n",
       "1995-02-28       NaN       NaN                    NaN              NaN   \n",
       "1995-03-31       NaN       NaN                    NaN              NaN   \n",
       "1995-04-30       NaN       NaN                    NaN              NaN   \n",
       "1995-05-31       NaN       NaN                    NaN              NaN   \n",
       "...              ...       ...                    ...              ...   \n",
       "2024-04-30  0.125170  0.000535              -0.000537         0.003206   \n",
       "2024-05-31  0.052943 -0.005845              -0.000322        -0.001456   \n",
       "2024-06-30  0.052931 -0.003580              -0.000515         0.001426   \n",
       "2024-07-31  0.162742  0.004985               0.000192         0.002867   \n",
       "2024-08-31  0.130576  0.009911              -0.000098         0.008070   \n",
       "\n",
       "            Mineral fuel and lubricant  Animal and vegetable oils and fats  \\\n",
       "date                                                                         \n",
       "1995-01-31                         NaN                                 NaN   \n",
       "1995-02-28                         NaN                                 NaN   \n",
       "1995-03-31                         NaN                                 NaN   \n",
       "1995-04-30                         NaN                                 NaN   \n",
       "1995-05-31                         NaN                                 NaN   \n",
       "...                                ...                                 ...   \n",
       "2024-04-30                   -0.023851                            0.000120   \n",
       "2024-05-31                    0.015271                           -0.000063   \n",
       "2024-06-30                    0.002230                            0.000129   \n",
       "2024-07-31                    0.041336                            0.000546   \n",
       "2024-08-31                    0.025846                            0.000027   \n",
       "\n",
       "            Chemicals  Manufactured goods  Machinery  \\\n",
       "date                                                   \n",
       "1995-01-31        NaN                 NaN        NaN   \n",
       "1995-02-28        NaN                 NaN        NaN   \n",
       "1995-03-31        NaN                 NaN        NaN   \n",
       "1995-04-30        NaN                 NaN        NaN   \n",
       "1995-05-31        NaN                 NaN        NaN   \n",
       "...               ...                 ...        ...   \n",
       "2024-04-30   0.011936            0.013672   0.063252   \n",
       "2024-05-31   0.003161           -0.000809   0.028661   \n",
       "2024-06-30  -0.001470            0.005965   0.020656   \n",
       "2024-07-31   0.026205            0.027377   0.040442   \n",
       "2024-08-31   0.008041            0.021384   0.020629   \n",
       "\n",
       "            Miscellaneous manufactured goods  \\\n",
       "date                                           \n",
       "1995-01-31                               NaN   \n",
       "1995-02-28                               NaN   \n",
       "1995-03-31                               NaN   \n",
       "1995-04-30                               NaN   \n",
       "1995-05-31                               NaN   \n",
       "...                                      ...   \n",
       "2024-04-30                          0.008426   \n",
       "2024-05-31                          0.007130   \n",
       "2024-06-30                          0.005482   \n",
       "2024-07-31                          0.015835   \n",
       "2024-08-31                          0.006791   \n",
       "\n",
       "            Miscellaneous transactions and commodities      Gold  \n",
       "date                                                              \n",
       "1995-01-31                                         NaN       NaN  \n",
       "1995-02-28                                         NaN       NaN  \n",
       "1995-03-31                                         NaN       NaN  \n",
       "1995-04-30                                         NaN       NaN  \n",
       "1995-05-31                                         NaN       NaN  \n",
       "...                                                ...       ...  \n",
       "2024-04-30                                    0.000033  0.048378  \n",
       "2024-05-31                                    0.000015  0.007200  \n",
       "2024-06-30                                    0.000042  0.022567  \n",
       "2024-07-31                                    0.000038  0.002919  \n",
       "2024-08-31                                    0.000039  0.029938  \n",
       "\n",
       "[356 rows x 12 columns]"
      ]
     },
     "execution_count": 89,
     "metadata": {},
     "output_type": "execute_result"
    }
   ],
   "source": [
    "(df_im - df_im.shift(12)).div(df_im.Imports, axis=0)"
   ]
  }
 ],
 "metadata": {
  "kernelspec": {
   "display_name": "venv",
   "language": "python",
   "name": "python3"
  },
  "language_info": {
   "codemirror_mode": {
    "name": "ipython",
    "version": 3
   },
   "file_extension": ".py",
   "mimetype": "text/x-python",
   "name": "python",
   "nbconvert_exporter": "python",
   "pygments_lexer": "ipython3",
   "version": "3.11.9"
  }
 },
 "nbformat": 4,
 "nbformat_minor": 2
}
